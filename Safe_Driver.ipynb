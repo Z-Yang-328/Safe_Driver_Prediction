{
 "cells": [
  {
   "cell_type": "markdown",
   "metadata": {},
   "source": [
    "## Safe Driver Prediction"
   ]
  },
  {
   "cell_type": "markdown",
   "metadata": {},
   "source": [
    "### impot libraries"
   ]
  },
  {
   "cell_type": "code",
   "execution_count": 1,
   "metadata": {},
   "outputs": [
    {
     "data": {
      "text/html": [
       "<script>requirejs.config({paths: { 'plotly': ['https://cdn.plot.ly/plotly-latest.min']},});if(!window.Plotly) {{require(['plotly'],function(plotly) {window.Plotly=plotly;});}}</script>"
      ],
      "text/vnd.plotly.v1+html": [
       "<script>requirejs.config({paths: { 'plotly': ['https://cdn.plot.ly/plotly-latest.min']},});if(!window.Plotly) {{require(['plotly'],function(plotly) {window.Plotly=plotly;});}}</script>"
      ]
     },
     "metadata": {},
     "output_type": "display_data"
    }
   ],
   "source": [
    "import numpy as np\n",
    "import pandas as pd\n",
    "import matplotlib.pyplot as plt\n",
    "import seaborn as sns\n",
    "\n",
    "%matplotlib inline\n",
    "\n",
    "import plotly.offline as py\n",
    "py.init_notebook_mode(connected=True)\n",
    "import plotly.graph_objs as go\n",
    "import plotly.tools as tls"
   ]
  },
  {
   "cell_type": "code",
   "execution_count": 2,
   "metadata": {
    "collapsed": true
   },
   "outputs": [],
   "source": [
    "#Remove redundant calls\n",
    "def ginic(actual, pred):\n",
    "    actual = np.asarray(actual) #In case, someone passes Series or list\n",
    "    n = len(actual)\n",
    "    a_s = actual[np.argsort(pred)]\n",
    "    a_c = a_s.cumsum()\n",
    "    giniSum = a_c.sum() / a_s.sum() - (n + 1) / 2.0\n",
    "    return giniSum / n\n",
    " \n",
    "def gini_normalizedc(a, p):\n",
    "    if p.ndim == 2:#Required for sklearn wrapper\n",
    "        p = p[:,1] #If proba array contains proba for both 0 and 1 classes, just pick class 1\n",
    "    return ginic(a, p) / ginic(a, a)\n",
    "\n",
    "def feature_importances(rfc, features):\n",
    "    x, y = (list(x) for x in zip(*sorted(zip(rfc.feature_importances_, features), \n",
    "                                                            reverse = False)))\n",
    "    trace2 = go.Bar(\n",
    "                    x=x ,\n",
    "                    y=y,\n",
    "                    marker=dict(\n",
    "                                color=x,\n",
    "                                colorscale = 'Viridis',\n",
    "                                reversescale = True\n",
    "                                ),\n",
    "                    name='Gradient Boosting Classifer Feature importance',\n",
    "                    orientation='h',\n",
    "                    )\n",
    "\n",
    "    layout = dict(\n",
    "                  title='Barplot of Feature importances',\n",
    "                  width = 900, height = 2000,\n",
    "                  yaxis=dict(\n",
    "                  showgrid=False,\n",
    "                  showline=False,\n",
    "                  showticklabels=True,\n",
    "                  ))\n",
    "\n",
    "    fig1 = go.Figure(data=[trace2])\n",
    "    fig1['layout'].update(layout)\n",
    "    py.iplot(fig1, filename='plots')\n",
    "    \n",
    "def feature_scatter(clf, features):\n",
    "    trace = go.Scatter(\n",
    "                       y = clf.feature_importances_,\n",
    "                       x = features,\n",
    "                       mode='markers',\n",
    "                       marker=dict(\n",
    "                                   sizemode = 'diameter',\n",
    "                                   sizeref = 1,\n",
    "                                   size = 13,\n",
    "                                   color = rfc_draw.feature_importances_,\n",
    "                                   colorscale='Portland',\n",
    "                                   showscale=True\n",
    "                                   ),\n",
    "                       text = features\n",
    "                       )\n",
    "    data_rfc = [trace]\n",
    "\n",
    "    layout= go.Layout(\n",
    "                      autosize= True,\n",
    "                      title= 'Gradient Boosting Machine Feature Importance',\n",
    "                      hovermode= 'closest',\n",
    "                      xaxis= dict(\n",
    "                                  ticklen= 5,\n",
    "                                  showgrid=False,\n",
    "                                  zeroline=False,\n",
    "                                  showline=False\n",
    "                                  ),\n",
    "                      yaxis=dict(\n",
    "                                 title= 'Feature Importance',\n",
    "                                 showgrid=False,\n",
    "                                 zeroline=False,\n",
    "                                 ticklen= 5,\n",
    "                                 gridwidth= 2\n",
    "                                 ),\n",
    "                      showlegend= False\n",
    "                      )\n",
    "    fig = go.Figure(data=data_rfc, layout=layout)\n",
    "    py.iplot(fig,filename='scatter2010')"
   ]
  },
  {
   "cell_type": "code",
   "execution_count": 3,
   "metadata": {
    "collapsed": true
   },
   "outputs": [],
   "source": [
    "import sklearn.metrics as metrics\n",
    "\n",
    "gini_sklearn = metrics.make_scorer(gini_normalizedc, True, True)"
   ]
  },
  {
   "cell_type": "markdown",
   "metadata": {},
   "source": [
    "### read dataset"
   ]
  },
  {
   "cell_type": "code",
   "execution_count": 4,
   "metadata": {
    "scrolled": true
   },
   "outputs": [
    {
     "data": {
      "text/html": [
       "<div>\n",
       "<style>\n",
       "    .dataframe thead tr:only-child th {\n",
       "        text-align: right;\n",
       "    }\n",
       "\n",
       "    .dataframe thead th {\n",
       "        text-align: left;\n",
       "    }\n",
       "\n",
       "    .dataframe tbody tr th {\n",
       "        vertical-align: top;\n",
       "    }\n",
       "</style>\n",
       "<table border=\"1\" class=\"dataframe\">\n",
       "  <thead>\n",
       "    <tr style=\"text-align: right;\">\n",
       "      <th></th>\n",
       "      <th>id</th>\n",
       "      <th>target</th>\n",
       "      <th>ps_ind_01</th>\n",
       "      <th>ps_ind_02_cat</th>\n",
       "      <th>ps_ind_03</th>\n",
       "      <th>ps_ind_04_cat</th>\n",
       "      <th>ps_ind_05_cat</th>\n",
       "      <th>ps_ind_06_bin</th>\n",
       "      <th>ps_ind_07_bin</th>\n",
       "      <th>ps_ind_08_bin</th>\n",
       "      <th>...</th>\n",
       "      <th>ps_calc_11</th>\n",
       "      <th>ps_calc_12</th>\n",
       "      <th>ps_calc_13</th>\n",
       "      <th>ps_calc_14</th>\n",
       "      <th>ps_calc_15_bin</th>\n",
       "      <th>ps_calc_16_bin</th>\n",
       "      <th>ps_calc_17_bin</th>\n",
       "      <th>ps_calc_18_bin</th>\n",
       "      <th>ps_calc_19_bin</th>\n",
       "      <th>ps_calc_20_bin</th>\n",
       "    </tr>\n",
       "  </thead>\n",
       "  <tbody>\n",
       "    <tr>\n",
       "      <th>0</th>\n",
       "      <td>7</td>\n",
       "      <td>0</td>\n",
       "      <td>2</td>\n",
       "      <td>2</td>\n",
       "      <td>5</td>\n",
       "      <td>1</td>\n",
       "      <td>0</td>\n",
       "      <td>0</td>\n",
       "      <td>1</td>\n",
       "      <td>0</td>\n",
       "      <td>...</td>\n",
       "      <td>9</td>\n",
       "      <td>1</td>\n",
       "      <td>5</td>\n",
       "      <td>8</td>\n",
       "      <td>0</td>\n",
       "      <td>1</td>\n",
       "      <td>1</td>\n",
       "      <td>0</td>\n",
       "      <td>0</td>\n",
       "      <td>1</td>\n",
       "    </tr>\n",
       "    <tr>\n",
       "      <th>1</th>\n",
       "      <td>9</td>\n",
       "      <td>0</td>\n",
       "      <td>1</td>\n",
       "      <td>1</td>\n",
       "      <td>7</td>\n",
       "      <td>0</td>\n",
       "      <td>0</td>\n",
       "      <td>0</td>\n",
       "      <td>0</td>\n",
       "      <td>1</td>\n",
       "      <td>...</td>\n",
       "      <td>3</td>\n",
       "      <td>1</td>\n",
       "      <td>1</td>\n",
       "      <td>9</td>\n",
       "      <td>0</td>\n",
       "      <td>1</td>\n",
       "      <td>1</td>\n",
       "      <td>0</td>\n",
       "      <td>1</td>\n",
       "      <td>0</td>\n",
       "    </tr>\n",
       "    <tr>\n",
       "      <th>2</th>\n",
       "      <td>13</td>\n",
       "      <td>0</td>\n",
       "      <td>5</td>\n",
       "      <td>4</td>\n",
       "      <td>9</td>\n",
       "      <td>1</td>\n",
       "      <td>0</td>\n",
       "      <td>0</td>\n",
       "      <td>0</td>\n",
       "      <td>1</td>\n",
       "      <td>...</td>\n",
       "      <td>4</td>\n",
       "      <td>2</td>\n",
       "      <td>7</td>\n",
       "      <td>7</td>\n",
       "      <td>0</td>\n",
       "      <td>1</td>\n",
       "      <td>1</td>\n",
       "      <td>0</td>\n",
       "      <td>1</td>\n",
       "      <td>0</td>\n",
       "    </tr>\n",
       "    <tr>\n",
       "      <th>3</th>\n",
       "      <td>16</td>\n",
       "      <td>0</td>\n",
       "      <td>0</td>\n",
       "      <td>1</td>\n",
       "      <td>2</td>\n",
       "      <td>0</td>\n",
       "      <td>0</td>\n",
       "      <td>1</td>\n",
       "      <td>0</td>\n",
       "      <td>0</td>\n",
       "      <td>...</td>\n",
       "      <td>2</td>\n",
       "      <td>2</td>\n",
       "      <td>4</td>\n",
       "      <td>9</td>\n",
       "      <td>0</td>\n",
       "      <td>0</td>\n",
       "      <td>0</td>\n",
       "      <td>0</td>\n",
       "      <td>0</td>\n",
       "      <td>0</td>\n",
       "    </tr>\n",
       "    <tr>\n",
       "      <th>4</th>\n",
       "      <td>17</td>\n",
       "      <td>0</td>\n",
       "      <td>0</td>\n",
       "      <td>2</td>\n",
       "      <td>0</td>\n",
       "      <td>1</td>\n",
       "      <td>0</td>\n",
       "      <td>1</td>\n",
       "      <td>0</td>\n",
       "      <td>0</td>\n",
       "      <td>...</td>\n",
       "      <td>3</td>\n",
       "      <td>1</td>\n",
       "      <td>1</td>\n",
       "      <td>3</td>\n",
       "      <td>0</td>\n",
       "      <td>0</td>\n",
       "      <td>0</td>\n",
       "      <td>1</td>\n",
       "      <td>1</td>\n",
       "      <td>0</td>\n",
       "    </tr>\n",
       "  </tbody>\n",
       "</table>\n",
       "<p>5 rows × 59 columns</p>\n",
       "</div>"
      ],
      "text/plain": [
       "   id  target  ps_ind_01  ps_ind_02_cat  ps_ind_03  ps_ind_04_cat  \\\n",
       "0   7       0          2              2          5              1   \n",
       "1   9       0          1              1          7              0   \n",
       "2  13       0          5              4          9              1   \n",
       "3  16       0          0              1          2              0   \n",
       "4  17       0          0              2          0              1   \n",
       "\n",
       "   ps_ind_05_cat  ps_ind_06_bin  ps_ind_07_bin  ps_ind_08_bin       ...        \\\n",
       "0              0              0              1              0       ...         \n",
       "1              0              0              0              1       ...         \n",
       "2              0              0              0              1       ...         \n",
       "3              0              1              0              0       ...         \n",
       "4              0              1              0              0       ...         \n",
       "\n",
       "   ps_calc_11  ps_calc_12  ps_calc_13  ps_calc_14  ps_calc_15_bin  \\\n",
       "0           9           1           5           8               0   \n",
       "1           3           1           1           9               0   \n",
       "2           4           2           7           7               0   \n",
       "3           2           2           4           9               0   \n",
       "4           3           1           1           3               0   \n",
       "\n",
       "   ps_calc_16_bin  ps_calc_17_bin  ps_calc_18_bin  ps_calc_19_bin  \\\n",
       "0               1               1               0               0   \n",
       "1               1               1               0               1   \n",
       "2               1               1               0               1   \n",
       "3               0               0               0               0   \n",
       "4               0               0               1               1   \n",
       "\n",
       "   ps_calc_20_bin  \n",
       "0               1  \n",
       "1               0  \n",
       "2               0  \n",
       "3               0  \n",
       "4               0  \n",
       "\n",
       "[5 rows x 59 columns]"
      ]
     },
     "execution_count": 4,
     "metadata": {},
     "output_type": "execute_result"
    }
   ],
   "source": [
    "data = pd.read_csv('train.csv')\n",
    "data.head()"
   ]
  },
  {
   "cell_type": "code",
   "execution_count": 5,
   "metadata": {
    "scrolled": true
   },
   "outputs": [
    {
     "name": "stderr",
     "output_type": "stream",
     "text": [
      "/anaconda/lib/python3.5/site-packages/pandas/core/generic.py:3786: UserWarning:\n",
      "\n",
      "the \"axis\" argument is deprecated and will be removed inv0.13; this argument has no effect\n",
      "\n"
     ]
    },
    {
     "name": "stdout",
     "output_type": "stream",
     "text": [
      "<class 'pandas.core.frame.DataFrame'>\n",
      "RangeIndex: 595212 entries, 0 to 595211\n",
      "Data columns (total 59 columns):\n",
      "id                595212 non-null int64\n",
      "target            595212 non-null int64\n",
      "ps_ind_01         595212 non-null int64\n",
      "ps_ind_02_cat     594996 non-null float64\n",
      "ps_ind_03         595212 non-null int64\n",
      "ps_ind_04_cat     595129 non-null float64\n",
      "ps_ind_05_cat     589403 non-null float64\n",
      "ps_ind_06_bin     595212 non-null int64\n",
      "ps_ind_07_bin     595212 non-null int64\n",
      "ps_ind_08_bin     595212 non-null int64\n",
      "ps_ind_09_bin     595212 non-null int64\n",
      "ps_ind_10_bin     595212 non-null int64\n",
      "ps_ind_11_bin     595212 non-null int64\n",
      "ps_ind_12_bin     595212 non-null int64\n",
      "ps_ind_13_bin     595212 non-null int64\n",
      "ps_ind_14         595212 non-null int64\n",
      "ps_ind_15         595212 non-null int64\n",
      "ps_ind_16_bin     595212 non-null int64\n",
      "ps_ind_17_bin     595212 non-null int64\n",
      "ps_ind_18_bin     595212 non-null int64\n",
      "ps_reg_01         595212 non-null float64\n",
      "ps_reg_02         595212 non-null float64\n",
      "ps_reg_03         487440 non-null float64\n",
      "ps_car_01_cat     595105 non-null float64\n",
      "ps_car_02_cat     595207 non-null float64\n",
      "ps_car_03_cat     183981 non-null float64\n",
      "ps_car_04_cat     595212 non-null int64\n",
      "ps_car_05_cat     328661 non-null float64\n",
      "ps_car_06_cat     595212 non-null int64\n",
      "ps_car_07_cat     583723 non-null float64\n",
      "ps_car_08_cat     595212 non-null int64\n",
      "ps_car_09_cat     594643 non-null float64\n",
      "ps_car_10_cat     595212 non-null int64\n",
      "ps_car_11_cat     595212 non-null int64\n",
      "ps_car_11         595207 non-null float64\n",
      "ps_car_12         595211 non-null float64\n",
      "ps_car_13         595212 non-null float64\n",
      "ps_car_14         552592 non-null float64\n",
      "ps_car_15         595212 non-null float64\n",
      "ps_calc_01        595212 non-null float64\n",
      "ps_calc_02        595212 non-null float64\n",
      "ps_calc_03        595212 non-null float64\n",
      "ps_calc_04        595212 non-null int64\n",
      "ps_calc_05        595212 non-null int64\n",
      "ps_calc_06        595212 non-null int64\n",
      "ps_calc_07        595212 non-null int64\n",
      "ps_calc_08        595212 non-null int64\n",
      "ps_calc_09        595212 non-null int64\n",
      "ps_calc_10        595212 non-null int64\n",
      "ps_calc_11        595212 non-null int64\n",
      "ps_calc_12        595212 non-null int64\n",
      "ps_calc_13        595212 non-null int64\n",
      "ps_calc_14        595212 non-null int64\n",
      "ps_calc_15_bin    595212 non-null int64\n",
      "ps_calc_16_bin    595212 non-null int64\n",
      "ps_calc_17_bin    595212 non-null int64\n",
      "ps_calc_18_bin    595212 non-null int64\n",
      "ps_calc_19_bin    595212 non-null int64\n",
      "ps_calc_20_bin    595212 non-null int64\n",
      "dtypes: float64(20), int64(39)\n",
      "memory usage: 267.9 MB\n"
     ]
    }
   ],
   "source": [
    "data.replace(-1, np.nan, axis = 1, inplace = True)\n",
    "data.info()"
   ]
  },
  {
   "cell_type": "markdown",
   "metadata": {},
   "source": [
    "### Target values"
   ]
  },
  {
   "cell_type": "code",
   "execution_count": 6,
   "metadata": {},
   "outputs": [
    {
     "name": "stdout",
     "output_type": "stream",
     "text": [
      "The percentage of claimed insurers:3.64 %\n"
     ]
    },
    {
     "data": {
      "image/png": "[encoded data removed]",
      "text/plain": [
       "<matplotlib.figure.Figure at 0x106abe6d8>"
      ]
     },
     "metadata": {},
     "output_type": "display_data"
    }
   ],
   "source": [
    "_ = sns.countplot(data.target)\n",
    "_ = plt.title('Claimed insurance vs. not claimed')\n",
    "_ = plt.xlabel('Claimed or not')\n",
    "claimed_per = data.target.value_counts()[1]/len(data.target)\n",
    "print(\"The percentage of claimed insurers:{:0.2f} %\".format(np.round(claimed_per*100,2)))"
   ]
  },
  {
   "cell_type": "markdown",
   "metadata": {},
   "source": [
    "Before checking outliers, we first check the target values of the data. From above results, it's obvious that the problem is to detect anomalies(to detect the 0.03645 users). Therefore, the concept of \"outliers\" may not be meaningful for this project."
   ]
  },
  {
   "cell_type": "markdown",
   "metadata": {},
   "source": [
    "### Categorical data"
   ]
  },
  {
   "cell_type": "code",
   "execution_count": 7,
   "metadata": {},
   "outputs": [
    {
     "data": {
      "image/png": "[encoded data removed]",
      "text/plain": [
       "<matplotlib.figure.Figure at 0x111713c18>"
      ]
     },
     "metadata": {},
     "output_type": "display_data"
    }
   ],
   "source": [
    "cate_data = data[[x for x in data.columns if\"_cat\" in x]]\n",
    "fig, axes = plt.subplots(ncols=3, nrows=5, figsize=(15, 15))\n",
    "i = 0\n",
    "for i in range(len(cate_data.columns)):\n",
    "    if i <=2:\n",
    "        sns.countplot(cate_data.iloc[:,i],ax=axes[0][i])\n",
    "    elif i <= 5:\n",
    "        sns.countplot(cate_data.iloc[:,i],ax=axes[1][i-3])\n",
    "    elif i <= 8:\n",
    "        sns.countplot(cate_data.iloc[:,i],ax=axes[2][i-6])\n",
    "    elif i <= 11:\n",
    "        sns.countplot(cate_data.iloc[:,i],ax=axes[3][i-9])\n",
    "    else:\n",
    "        sns.countplot(cate_data.iloc[:,i],ax=axes[4][i-12])\n",
    "plt.tight_layout()\n",
    "fig.delaxes(axes[4,2])"
   ]
  },
  {
   "cell_type": "code",
   "execution_count": 8,
   "metadata": {},
   "outputs": [
    {
     "data": {
      "text/plain": [
       "1    590179\n",
       "0      4857\n",
       "2       176\n",
       "Name: ps_car_10_cat, dtype: int64"
      ]
     },
     "execution_count": 8,
     "metadata": {},
     "output_type": "execute_result"
    }
   ],
   "source": [
    "cate_data.ps_car_10_cat.value_counts()"
   ]
  },
  {
   "cell_type": "code",
   "execution_count": 9,
   "metadata": {
    "collapsed": true
   },
   "outputs": [],
   "source": [
    "data_new = data.rename(columns={'ps_car_08_cat':'ps_car_08_cat_bin'})"
   ]
  },
  {
   "cell_type": "markdown",
   "metadata": {},
   "source": [
    "### Split data\n",
    "Since we have 59 columns which makes visualization sort of difficult, it is better to split the data into categorical features and non categorical features."
   ]
  },
  {
   "cell_type": "code",
   "execution_count": 10,
   "metadata": {
    "collapsed": true
   },
   "outputs": [],
   "source": [
    "data_cat = data.select_dtypes(include=['int64'])\n",
    "data_non_cat = data.select_dtypes(include=['float64'])"
   ]
  },
  {
   "cell_type": "markdown",
   "metadata": {},
   "source": [
    "### Non-Categorical features visualization"
   ]
  },
  {
   "cell_type": "code",
   "execution_count": 11,
   "metadata": {},
   "outputs": [
    {
     "data": {
      "text/plain": [
       "<matplotlib.axes._subplots.AxesSubplot at 0x10edb6908>"
      ]
     },
     "execution_count": 11,
     "metadata": {},
     "output_type": "execute_result"
    },
    {
     "data": {
      "image/png": "[encoded data removed]",
      "text/plain": [
       "<matplotlib.figure.Figure at 0x10edb6860>"
      ]
     },
     "metadata": {},
     "output_type": "display_data"
    }
   ],
   "source": [
    "colormap = plt.cm.Blues_r\n",
    "plt.figure(figsize=(16,12))\n",
    "plt.title('Pearson correlation of continuous features', y=1.05, size=15)\n",
    "sns.heatmap(data_non_cat.corr(),linewidths=0.1,vmax=1.0, square=True, cmap=colormap, linecolor='white', annot=True)"
   ]
  },
  {
   "cell_type": "code",
   "execution_count": 12,
   "metadata": {},
   "outputs": [
    {
     "data": {
      "application/vnd.plotly.v1+json": {
       "data": [
        {
         "colorscale": "Viridis",
         "opacity": 1,
         "reversescale": false,
         "text": true,
         "type": "heatmap",
         "x": [
          "ps_ind_02_cat",
          "ps_ind_04_cat",
          "ps_ind_05_cat",
          "ps_reg_01",
          "ps_reg_02",
          "ps_reg_03",
          "ps_car_01_cat",
          "ps_car_02_cat",
          "ps_car_03_cat",
          "ps_car_05_cat",
          "ps_car_07_cat",
          "ps_car_09_cat",
          "ps_car_11",
          "ps_car_12",
          "ps_car_13",
          "ps_car_14",
          "ps_car_15",
          "ps_calc_01",
          "ps_calc_02",
          "ps_calc_03"
         ],
         "y": [
          "ps_ind_02_cat",
          "ps_ind_04_cat",
          "ps_ind_05_cat",
          "ps_reg_01",
          "ps_reg_02",
          "ps_reg_03",
          "ps_car_01_cat",
          "ps_car_02_cat",
          "ps_car_03_cat",
          "ps_car_05_cat",
          "ps_car_07_cat",
          "ps_car_09_cat",
          "ps_car_11",
          "ps_car_12",
          "ps_car_13",
          "ps_car_14",
          "ps_car_15",
          "ps_calc_01",
          "ps_calc_02",
          "ps_calc_03"
         ],
         "z": [
          [
           1,
           0.14636321149097664,
           -0.007712147005029272,
           0.06021944468341659,
           0.08390501325326317,
           0.07214989973120925,
           7.873686429685167e-05,
           0.04538626468618831,
           0.019831433228848117,
           0.02198232791854034,
           0.02322339093511233,
           0.007424698541762061,
           0.019660233287529565,
           -0.1103790552530617,
           -0.08029404551979091,
           -0.08458985556290395,
           -0.00825753471578304,
           0.0007107870109302751,
           0.000959445718044514,
           -0.0003343438652039066
          ],
          [
           0.14636321149097664,
           1,
           0.01254679813306304,
           0.023061292693626206,
           0.07914179515668969,
           0.09478337300391913,
           0.02803514952610368,
           0.0030452160184355195,
           0.05581181184818648,
           0.009230632587945299,
           0.08423180061346618,
           -0.04288982639879621,
           0.07341811841113897,
           -0.09501998604141015,
           -0.03192876892761362,
           -0.08242111326075034,
           0.040632915698755816,
           -0.0027547928772176152,
           -0.0005111687666647584,
           0.0002728672617244673
          ],
          [
           -0.007712147005029272,
           0.01254679813306304,
           1,
           -0.01543587956673247,
           -0.006159085413114483,
           -0.003649732444388105,
           -0.03533977132351615,
           0.014032840437324315,
           0.008771049104300167,
           0.0019727454764208825,
           0.004688977796816615,
           -0.003833283780505616,
           0.0020982795929032827,
           -0.01985166640205034,
           -0.01756537097094254,
           -0.015155591424051847,
           -0.007318733809471303,
           -0.0017352298133484255,
           0.002550206784219842,
           -0.0013895068501625016
          ],
          [
           0.06021944468341659,
           0.023061292693626206,
           -0.01543587956673247,
           1,
           0.47102706970003355,
           0.18903980896348038,
           0.1834791103773532,
           -0.07928862970523325,
           0.053791899167842744,
           0.03485925139431654,
           -0.031176118002047087,
           0.06638399213493763,
           0.07713483647788005,
           0.018781849436177805,
           0.027097332675295224,
           -0.0020830076991663663,
           0.002764523307205702,
           -0.0008913096088880116,
           0.0021944369073186097,
           -0.0015381674281423087
          ],
          [
           0.08390501325326317,
           0.07914179515668969,
           -0.006159085413114483,
           0.47102706970003355,
           1,
           0.7426683525036366,
           0.2314625774480472,
           -0.21683997081748643,
           0.08912591369849363,
           0.1290535441692848,
           -0.009109805289567206,
           0.02466711252303866,
           0.06814043007329103,
           0.17145340130676986,
           0.19431602128933323,
           0.05549470290433797,
           0.054510431054316806,
           0.001346934846572804,
           -0.0007702025529741213,
           2.2238677956617257e-05
          ],
          [
           0.07214989973120925,
           0.09478337300391913,
           -0.003649732444388105,
           0.18903980896348038,
           0.7426683525036366,
           1,
           0.2253399180419972,
           -0.2431454772792599,
           0.10225352972727812,
           0.1599895795760863,
           0.00291553263006725,
           -0.009712966954935908,
           0.0529324097107364,
           0.22892623458533695,
           0.2648004623475134,
           0.09090902570175109,
           0.09140126154928778,
           0.000836685069439264,
           -0.0005148053458551034,
           0.001831731247425484
          ],
          [
           7.873686429685167e-05,
           0.02803514952610368,
           -0.03533977132351615,
           0.1834791103773532,
           0.2314625774480472,
           0.2253399180419972,
           1,
           -0.1530286338091075,
           0.09073584244785192,
           0.03958001657907948,
           0.07786935739413993,
           0.27354672954478104,
           0.11088249849066975,
           0.12661298557924192,
           0.16789027966221085,
           -0.0030988781899651163,
           0.10302567760360654,
           0.0006151614108590286,
           0.002082608947115474,
           2.6878464785687286e-05
          ],
          [
           0.04538626468618831,
           0.0030452160184355195,
           0.014032840437324315,
           -0.07928862970523325,
           -0.21683997081748643,
           -0.2431454772792599,
           -0.1530286338091075,
           1,
           -0.04339602840766228,
           -0.06946315821170782,
           -0.011997329051545783,
           -0.013870818050987721,
           -0.09015148492109654,
           -0.4695042092216277,
           -0.4829782737699677,
           -0.2647514783728086,
           -0.07632966598624964,
           0.00029375369602914605,
           -0.0018649128433242876,
           -0.0029844425738083198
          ],
          [
           0.019831433228848117,
           0.05581181184818648,
           0.008771049104300167,
           0.053791899167842744,
           0.08912591369849363,
           0.10225352972727812,
           0.09073584244785192,
           -0.04339602840766228,
           1,
           -0.059625978834740814,
           0.02433440168328996,
           -0.04691667375957327,
           0.07434550150989236,
           -0.02559929190723717,
           0.21376604075338096,
           -0.010027643387749467,
           0.3746372130972761,
           0.004736061017675466,
           -0.0011165649461987327,
           -0.0036997426767748334
          ],
          [
           0.02198232791854034,
           0.009230632587945299,
           0.0019727454764208825,
           0.03485925139431654,
           0.1290535441692848,
           0.1599895795760863,
           0.03958001657907948,
           -0.06946315821170782,
           -0.059625978834740814,
           1,
           0.02443533546796471,
           -0.019225310238221258,
           -0.020586299698014492,
           0.07910908217537084,
           -0.05176444280086932,
           0.06364215577984055,
           -0.22138759824332724,
           0.0020724990773793427,
           -0.0018819075076151636,
           0.004296716848915781
          ],
          [
           0.02322339093511233,
           0.08423180061346618,
           0.004688977796816615,
           -0.031176118002047087,
           -0.009109805289567206,
           0.00291553263006725,
           0.07786935739413993,
           -0.011997329051545783,
           0.02433440168328996,
           0.02443533546796471,
           1,
           0.002330249288554648,
           0.11444189883205855,
           -0.02713228366150052,
           -0.007687467589179885,
           -0.04147365280008225,
           -0.0032358478314400965,
           -0.0004756026564295775,
           0.0011418945226049225,
           -0.0023050727802708367
          ],
          [
           0.007424698541762061,
           -0.04288982639879621,
           -0.003833283780505616,
           0.06638399213493763,
           0.02466711252303866,
           -0.009712966954935908,
           0.27354672954478104,
           -0.013870818050987721,
           -0.04691667375957327,
           -0.019225310238221258,
           0.002330249288554648,
           1,
           0.11945875705111156,
           -0.03198418349806544,
           -0.05612855115986148,
           -0.2235857258466032,
           -0.04894160056751063,
           0.000618685607068436,
           0.0010075741790709163,
           0.0007060477204532588
          ],
          [
           0.019660233287529565,
           0.07341811841113897,
           0.0020982795929032827,
           0.07713483647788005,
           0.06814043007329103,
           0.0529324097107364,
           0.11088249849066975,
           -0.09015148492109654,
           0.07434550150989236,
           -0.020586299698014492,
           0.11444189883205855,
           0.11945875705111156,
           1,
           0.05702075220168981,
           0.10188606260496424,
           -0.03972866517220088,
           0.1096801762596568,
           0.00011749854690258003,
           0.0017123749047645808,
           -0.0016327321086992413
          ],
          [
           -0.1103790552530617,
           -0.09501998604141015,
           -0.01985166640205034,
           0.018781849436177805,
           0.17145340130676986,
           0.22892623458533695,
           0.12661298557924192,
           -0.4695042092216277,
           -0.02559929190723717,
           0.07910908217537084,
           -0.02713228366150052,
           -0.03198418349806544,
           0.05702075220168981,
           1,
           0.6720140732364945,
           0.6033609356447661,
           0.049739550581989554,
           -0.0007211584819991578,
           -0.0003923711882106334,
           0.00015102871165477135
          ],
          [
           -0.08029404551979091,
           -0.03192876892761362,
           -0.01756537097094254,
           0.027097332675295224,
           0.19431602128933323,
           0.2648004623475134,
           0.16789027966221085,
           -0.4829782737699677,
           0.21376604075338096,
           -0.05176444280086932,
           -0.007687467589179885,
           -0.05612855115986148,
           0.10188606260496424,
           0.6720140732364945,
           1,
           0.45904672293468296,
           0.5295185559167169,
           0.00015748103227473823,
           3.994389894591031e-05,
           -0.00019953330199343504
          ],
          [
           -0.08458985556290395,
           -0.08242111326075034,
           -0.015155591424051847,
           -0.0020830076991663663,
           0.05549470290433797,
           0.09090902570175109,
           -0.0030988781899651163,
           -0.2647514783728086,
           -0.010027643387749467,
           0.06364215577984055,
           -0.04147365280008225,
           -0.2235857258466032,
           -0.03972866517220088,
           0.6033609356447661,
           0.45904672293468296,
           1,
           0.009733112990747833,
           -0.0032738787270795823,
           -0.001882622443444977,
           -0.001109697985342522
          ],
          [
           -0.00825753471578304,
           0.040632915698755816,
           -0.007318733809471303,
           0.002764523307205702,
           0.054510431054316806,
           0.09140126154928778,
           0.10302567760360654,
           -0.07632966598624964,
           0.3746372130972761,
           -0.22138759824332724,
           -0.0032358478314400965,
           -0.04894160056751063,
           0.1096801762596568,
           0.049739550581989554,
           0.5295185559167169,
           0.009733112990747833,
           1,
           0.0003435576850778193,
           -0.0002516306440417137,
           -0.0010425327140505308
          ],
          [
           0.0007107870109302751,
           -0.0027547928772176152,
           -0.0017352298133484255,
           -0.0008913096088880116,
           0.001346934846572804,
           0.000836685069439264,
           0.0006151614108590286,
           0.00029375369602914605,
           0.004736061017675466,
           0.0020724990773793427,
           -0.0004756026564295775,
           0.000618685607068436,
           0.00011749854690258003,
           -0.0007211584819991578,
           0.00015748103227473823,
           -0.0032738787270795823,
           0.0003435576850778193,
           1,
           -0.002418400505808286,
           0.0005263738781031558
          ],
          [
           0.000959445718044514,
           -0.0005111687666647584,
           0.002550206784219842,
           0.0021944369073186097,
           -0.0007702025529741213,
           -0.0005148053458551034,
           0.002082608947115474,
           -0.0018649128433242876,
           -0.0011165649461987327,
           -0.0018819075076151636,
           0.0011418945226049225,
           0.0010075741790709163,
           0.0017123749047645808,
           -0.0003923711882106334,
           3.994389894591031e-05,
           -0.001882622443444977,
           -0.0002516306440417137,
           -0.002418400505808286,
           1,
           0.0029476584887376573
          ],
          [
           -0.0003343438652039066,
           0.0002728672617244673,
           -0.0013895068501625016,
           -0.0015381674281423087,
           2.2238677956617257e-05,
           0.001831731247425484,
           2.6878464785687286e-05,
           -0.0029844425738083198,
           -0.0036997426767748334,
           0.004296716848915781,
           -0.0023050727802708367,
           0.0007060477204532588,
           -0.0016327321086992413,
           0.00015102871165477135,
           -0.00019953330199343504,
           -0.001109697985342522,
           -0.0010425327140505308,
           0.0005263738781031558,
           0.0029476584887376573,
           1
          ]
         ]
        }
       ],
       "layout": {
        "height": 700,
        "title": "Pearson Correlation of Integer-type features",
        "width": 900,
        "xaxis": {
         "nticks": 36,
         "ticks": ""
        },
        "yaxis": {
         "ticks": ""
        }
       }
      },
      "text/html": [
       "<div id=\"8b6897e3-94d7-4d18-81a7-a1907f35bb7d\" style=\"height: 700px; width: 900px;\" class=\"plotly-graph-div\"></div><script type=\"text/javascript\">require([\"plotly\"], function(Plotly) { window.PLOTLYENV=window.PLOTLYENV || {};window.PLOTLYENV.BASE_URL=\"https://plot.ly\";Plotly.newPlot(\"8b6897e3-94d7-4d18-81a7-a1907f35bb7d\", [{\"text\": true, \"colorscale\": \"Viridis\", \"opacity\": 1.0, \"y\": [\"ps_ind_02_cat\", \"ps_ind_04_cat\", \"ps_ind_05_cat\", \"ps_reg_01\", \"ps_reg_02\", \"ps_reg_03\", \"ps_car_01_cat\", \"ps_car_02_cat\", \"ps_car_03_cat\", \"ps_car_05_cat\", \"ps_car_07_cat\", \"ps_car_09_cat\", \"ps_car_11\", \"ps_car_12\", \"ps_car_13\", \"ps_car_14\", \"ps_car_15\", \"ps_calc_01\", \"ps_calc_02\", \"ps_calc_03\"], \"z\": [[1.0, 0.14636321149097664, -0.007712147005029272, 0.06021944468341659, 0.08390501325326317, 0.07214989973120925, 7.873686429685167e-05, 0.04538626468618831, 0.019831433228848117, 0.02198232791854034, 0.02322339093511233, 0.007424698541762061, 0.019660233287529565, -0.1103790552530617, -0.08029404551979091, -0.08458985556290395, -0.00825753471578304, 0.0007107870109302751, 0.000959445718044514, -0.0003343438652039066], [0.14636321149097664, 1.0, 0.01254679813306304, 0.023061292693626206, 0.07914179515668969, 0.09478337300391913, 0.02803514952610368, 0.0030452160184355195, 0.05581181184818648, 0.009230632587945299, 0.08423180061346618, -0.04288982639879621, 0.07341811841113897, -0.09501998604141015, -0.03192876892761362, -0.08242111326075034, 0.040632915698755816, -0.0027547928772176152, -0.0005111687666647584, 0.0002728672617244673], [-0.007712147005029272, 0.01254679813306304, 1.0, -0.01543587956673247, -0.006159085413114483, -0.003649732444388105, -0.03533977132351615, 0.014032840437324315, 0.008771049104300167, 0.0019727454764208825, 0.004688977796816615, -0.003833283780505616, 0.0020982795929032827, -0.01985166640205034, -0.01756537097094254, -0.015155591424051847, -0.007318733809471303, -0.0017352298133484255, 0.002550206784219842, -0.0013895068501625016], [0.06021944468341659, 0.023061292693626206, -0.01543587956673247, 1.0, 0.47102706970003355, 0.18903980896348038, 0.1834791103773532, -0.07928862970523325, 0.053791899167842744, 0.03485925139431654, -0.031176118002047087, 0.06638399213493763, 0.07713483647788005, 0.018781849436177805, 0.027097332675295224, -0.0020830076991663663, 0.002764523307205702, -0.0008913096088880116, 0.0021944369073186097, -0.0015381674281423087], [0.08390501325326317, 0.07914179515668969, -0.006159085413114483, 0.47102706970003355, 1.0, 0.7426683525036366, 0.2314625774480472, -0.21683997081748643, 0.08912591369849363, 0.1290535441692848, -0.009109805289567206, 0.02466711252303866, 0.06814043007329103, 0.17145340130676986, 0.19431602128933323, 0.05549470290433797, 0.054510431054316806, 0.001346934846572804, -0.0007702025529741213, 2.2238677956617257e-05], [0.07214989973120925, 0.09478337300391913, -0.003649732444388105, 0.18903980896348038, 0.7426683525036366, 1.0, 0.2253399180419972, -0.2431454772792599, 0.10225352972727812, 0.1599895795760863, 0.00291553263006725, -0.009712966954935908, 0.0529324097107364, 0.22892623458533695, 0.2648004623475134, 0.09090902570175109, 0.09140126154928778, 0.000836685069439264, -0.0005148053458551034, 0.001831731247425484], [7.873686429685167e-05, 0.02803514952610368, -0.03533977132351615, 0.1834791103773532, 0.2314625774480472, 0.2253399180419972, 1.0, -0.1530286338091075, 0.09073584244785192, 0.03958001657907948, 0.07786935739413993, 0.27354672954478104, 0.11088249849066975, 0.12661298557924192, 0.16789027966221085, -0.0030988781899651163, 0.10302567760360654, 0.0006151614108590286, 0.002082608947115474, 2.6878464785687286e-05], [0.04538626468618831, 0.0030452160184355195, 0.014032840437324315, -0.07928862970523325, -0.21683997081748643, -0.2431454772792599, -0.1530286338091075, 1.0, -0.04339602840766228, -0.06946315821170782, -0.011997329051545783, -0.013870818050987721, -0.09015148492109654, -0.4695042092216277, -0.4829782737699677, -0.2647514783728086, -0.07632966598624964, 0.00029375369602914605, -0.0018649128433242876, -0.0029844425738083198], [0.019831433228848117, 0.05581181184818648, 0.008771049104300167, 0.053791899167842744, 0.08912591369849363, 0.10225352972727812, 0.09073584244785192, -0.04339602840766228, 1.0, -0.059625978834740814, 0.02433440168328996, -0.04691667375957327, 0.07434550150989236, -0.02559929190723717, 0.21376604075338096, -0.010027643387749467, 0.3746372130972761, 0.004736061017675466, -0.0011165649461987327, -0.0036997426767748334], [0.02198232791854034, 0.009230632587945299, 0.0019727454764208825, 0.03485925139431654, 0.1290535441692848, 0.1599895795760863, 0.03958001657907948, -0.06946315821170782, -0.059625978834740814, 1.0, 0.02443533546796471, -0.019225310238221258, -0.020586299698014492, 0.07910908217537084, -0.05176444280086932, 0.06364215577984055, -0.22138759824332724, 0.0020724990773793427, -0.0018819075076151636, 0.004296716848915781], [0.02322339093511233, 0.08423180061346618, 0.004688977796816615, -0.031176118002047087, -0.009109805289567206, 0.00291553263006725, 0.07786935739413993, -0.011997329051545783, 0.02433440168328996, 0.02443533546796471, 1.0, 0.002330249288554648, 0.11444189883205855, -0.02713228366150052, -0.007687467589179885, -0.04147365280008225, -0.0032358478314400965, -0.0004756026564295775, 0.0011418945226049225, -0.0023050727802708367], [0.007424698541762061, -0.04288982639879621, -0.003833283780505616, 0.06638399213493763, 0.02466711252303866, -0.009712966954935908, 0.27354672954478104, -0.013870818050987721, -0.04691667375957327, -0.019225310238221258, 0.002330249288554648, 1.0, 0.11945875705111156, -0.03198418349806544, -0.05612855115986148, -0.2235857258466032, -0.04894160056751063, 0.000618685607068436, 0.0010075741790709163, 0.0007060477204532588], [0.019660233287529565, 0.07341811841113897, 0.0020982795929032827, 0.07713483647788005, 0.06814043007329103, 0.0529324097107364, 0.11088249849066975, -0.09015148492109654, 0.07434550150989236, -0.020586299698014492, 0.11444189883205855, 0.11945875705111156, 1.0, 0.05702075220168981, 0.10188606260496424, -0.03972866517220088, 0.1096801762596568, 0.00011749854690258003, 0.0017123749047645808, -0.0016327321086992413], [-0.1103790552530617, -0.09501998604141015, -0.01985166640205034, 0.018781849436177805, 0.17145340130676986, 0.22892623458533695, 0.12661298557924192, -0.4695042092216277, -0.02559929190723717, 0.07910908217537084, -0.02713228366150052, -0.03198418349806544, 0.05702075220168981, 1.0, 0.6720140732364945, 0.6033609356447661, 0.049739550581989554, -0.0007211584819991578, -0.0003923711882106334, 0.00015102871165477135], [-0.08029404551979091, -0.03192876892761362, -0.01756537097094254, 0.027097332675295224, 0.19431602128933323, 0.2648004623475134, 0.16789027966221085, -0.4829782737699677, 0.21376604075338096, -0.05176444280086932, -0.007687467589179885, -0.05612855115986148, 0.10188606260496424, 0.6720140732364945, 1.0, 0.45904672293468296, 0.5295185559167169, 0.00015748103227473823, 3.994389894591031e-05, -0.00019953330199343504], [-0.08458985556290395, -0.08242111326075034, -0.015155591424051847, -0.0020830076991663663, 0.05549470290433797, 0.09090902570175109, -0.0030988781899651163, -0.2647514783728086, -0.010027643387749467, 0.06364215577984055, -0.04147365280008225, -0.2235857258466032, -0.03972866517220088, 0.6033609356447661, 0.45904672293468296, 1.0, 0.009733112990747833, -0.0032738787270795823, -0.001882622443444977, -0.001109697985342522], [-0.00825753471578304, 0.040632915698755816, -0.007318733809471303, 0.002764523307205702, 0.054510431054316806, 0.09140126154928778, 0.10302567760360654, -0.07632966598624964, 0.3746372130972761, -0.22138759824332724, -0.0032358478314400965, -0.04894160056751063, 0.1096801762596568, 0.049739550581989554, 0.5295185559167169, 0.009733112990747833, 1.0, 0.0003435576850778193, -0.0002516306440417137, -0.0010425327140505308], [0.0007107870109302751, -0.0027547928772176152, -0.0017352298133484255, -0.0008913096088880116, 0.001346934846572804, 0.000836685069439264, 0.0006151614108590286, 0.00029375369602914605, 0.004736061017675466, 0.0020724990773793427, -0.0004756026564295775, 0.000618685607068436, 0.00011749854690258003, -0.0007211584819991578, 0.00015748103227473823, -0.0032738787270795823, 0.0003435576850778193, 1.0, -0.002418400505808286, 0.0005263738781031558], [0.000959445718044514, -0.0005111687666647584, 0.002550206784219842, 0.0021944369073186097, -0.0007702025529741213, -0.0005148053458551034, 0.002082608947115474, -0.0018649128433242876, -0.0011165649461987327, -0.0018819075076151636, 0.0011418945226049225, 0.0010075741790709163, 0.0017123749047645808, -0.0003923711882106334, 3.994389894591031e-05, -0.001882622443444977, -0.0002516306440417137, -0.002418400505808286, 1.0, 0.0029476584887376573], [-0.0003343438652039066, 0.0002728672617244673, -0.0013895068501625016, -0.0015381674281423087, 2.2238677956617257e-05, 0.001831731247425484, 2.6878464785687286e-05, -0.0029844425738083198, -0.0036997426767748334, 0.004296716848915781, -0.0023050727802708367, 0.0007060477204532588, -0.0016327321086992413, 0.00015102871165477135, -0.00019953330199343504, -0.001109697985342522, -0.0010425327140505308, 0.0005263738781031558, 0.0029476584887376573, 1.0]], \"reversescale\": false, \"type\": \"heatmap\", \"x\": [\"ps_ind_02_cat\", \"ps_ind_04_cat\", \"ps_ind_05_cat\", \"ps_reg_01\", \"ps_reg_02\", \"ps_reg_03\", \"ps_car_01_cat\", \"ps_car_02_cat\", \"ps_car_03_cat\", \"ps_car_05_cat\", \"ps_car_07_cat\", \"ps_car_09_cat\", \"ps_car_11\", \"ps_car_12\", \"ps_car_13\", \"ps_car_14\", \"ps_car_15\", \"ps_calc_01\", \"ps_calc_02\", \"ps_calc_03\"]}], {\"width\": 900, \"yaxis\": {\"ticks\": \"\"}, \"height\": 700, \"title\": \"Pearson Correlation of Integer-type features\", \"xaxis\": {\"nticks\": 36, \"ticks\": \"\"}}, {\"linkText\": \"Export to plot.ly\", \"showLink\": true})});</script>"
      ],
      "text/vnd.plotly.v1+html": [
       "<div id=\"8b6897e3-94d7-4d18-81a7-a1907f35bb7d\" style=\"height: 700px; width: 900px;\" class=\"plotly-graph-div\"></div><script type=\"text/javascript\">require([\"plotly\"], function(Plotly) { window.PLOTLYENV=window.PLOTLYENV || {};window.PLOTLYENV.BASE_URL=\"https://plot.ly\";Plotly.newPlot(\"8b6897e3-94d7-4d18-81a7-a1907f35bb7d\", [{\"text\": true, \"colorscale\": \"Viridis\", \"opacity\": 1.0, \"y\": [\"ps_ind_02_cat\", \"ps_ind_04_cat\", \"ps_ind_05_cat\", \"ps_reg_01\", \"ps_reg_02\", \"ps_reg_03\", \"ps_car_01_cat\", \"ps_car_02_cat\", \"ps_car_03_cat\", \"ps_car_05_cat\", \"ps_car_07_cat\", \"ps_car_09_cat\", \"ps_car_11\", \"ps_car_12\", \"ps_car_13\", \"ps_car_14\", \"ps_car_15\", \"ps_calc_01\", \"ps_calc_02\", \"ps_calc_03\"], \"z\": [[1.0, 0.14636321149097664, -0.007712147005029272, 0.06021944468341659, 0.08390501325326317, 0.07214989973120925, 7.873686429685167e-05, 0.04538626468618831, 0.019831433228848117, 0.02198232791854034, 0.02322339093511233, 0.007424698541762061, 0.019660233287529565, -0.1103790552530617, -0.08029404551979091, -0.08458985556290395, -0.00825753471578304, 0.0007107870109302751, 0.000959445718044514, -0.0003343438652039066], [0.14636321149097664, 1.0, 0.01254679813306304, 0.023061292693626206, 0.07914179515668969, 0.09478337300391913, 0.02803514952610368, 0.0030452160184355195, 0.05581181184818648, 0.009230632587945299, 0.08423180061346618, -0.04288982639879621, 0.07341811841113897, -0.09501998604141015, -0.03192876892761362, -0.08242111326075034, 0.040632915698755816, -0.0027547928772176152, -0.0005111687666647584, 0.0002728672617244673], [-0.007712147005029272, 0.01254679813306304, 1.0, -0.01543587956673247, -0.006159085413114483, -0.003649732444388105, -0.03533977132351615, 0.014032840437324315, 0.008771049104300167, 0.0019727454764208825, 0.004688977796816615, -0.003833283780505616, 0.0020982795929032827, -0.01985166640205034, -0.01756537097094254, -0.015155591424051847, -0.007318733809471303, -0.0017352298133484255, 0.002550206784219842, -0.0013895068501625016], [0.06021944468341659, 0.023061292693626206, -0.01543587956673247, 1.0, 0.47102706970003355, 0.18903980896348038, 0.1834791103773532, -0.07928862970523325, 0.053791899167842744, 0.03485925139431654, -0.031176118002047087, 0.06638399213493763, 0.07713483647788005, 0.018781849436177805, 0.027097332675295224, -0.0020830076991663663, 0.002764523307205702, -0.0008913096088880116, 0.0021944369073186097, -0.0015381674281423087], [0.08390501325326317, 0.07914179515668969, -0.006159085413114483, 0.47102706970003355, 1.0, 0.7426683525036366, 0.2314625774480472, -0.21683997081748643, 0.08912591369849363, 0.1290535441692848, -0.009109805289567206, 0.02466711252303866, 0.06814043007329103, 0.17145340130676986, 0.19431602128933323, 0.05549470290433797, 0.054510431054316806, 0.001346934846572804, -0.0007702025529741213, 2.2238677956617257e-05], [0.07214989973120925, 0.09478337300391913, -0.003649732444388105, 0.18903980896348038, 0.7426683525036366, 1.0, 0.2253399180419972, -0.2431454772792599, 0.10225352972727812, 0.1599895795760863, 0.00291553263006725, -0.009712966954935908, 0.0529324097107364, 0.22892623458533695, 0.2648004623475134, 0.09090902570175109, 0.09140126154928778, 0.000836685069439264, -0.0005148053458551034, 0.001831731247425484], [7.873686429685167e-05, 0.02803514952610368, -0.03533977132351615, 0.1834791103773532, 0.2314625774480472, 0.2253399180419972, 1.0, -0.1530286338091075, 0.09073584244785192, 0.03958001657907948, 0.07786935739413993, 0.27354672954478104, 0.11088249849066975, 0.12661298557924192, 0.16789027966221085, -0.0030988781899651163, 0.10302567760360654, 0.0006151614108590286, 0.002082608947115474, 2.6878464785687286e-05], [0.04538626468618831, 0.0030452160184355195, 0.014032840437324315, -0.07928862970523325, -0.21683997081748643, -0.2431454772792599, -0.1530286338091075, 1.0, -0.04339602840766228, -0.06946315821170782, -0.011997329051545783, -0.013870818050987721, -0.09015148492109654, -0.4695042092216277, -0.4829782737699677, -0.2647514783728086, -0.07632966598624964, 0.00029375369602914605, -0.0018649128433242876, -0.0029844425738083198], [0.019831433228848117, 0.05581181184818648, 0.008771049104300167, 0.053791899167842744, 0.08912591369849363, 0.10225352972727812, 0.09073584244785192, -0.04339602840766228, 1.0, -0.059625978834740814, 0.02433440168328996, -0.04691667375957327, 0.07434550150989236, -0.02559929190723717, 0.21376604075338096, -0.010027643387749467, 0.3746372130972761, 0.004736061017675466, -0.0011165649461987327, -0.0036997426767748334], [0.02198232791854034, 0.009230632587945299, 0.0019727454764208825, 0.03485925139431654, 0.1290535441692848, 0.1599895795760863, 0.03958001657907948, -0.06946315821170782, -0.059625978834740814, 1.0, 0.02443533546796471, -0.019225310238221258, -0.020586299698014492, 0.07910908217537084, -0.05176444280086932, 0.06364215577984055, -0.22138759824332724, 0.0020724990773793427, -0.0018819075076151636, 0.004296716848915781], [0.02322339093511233, 0.08423180061346618, 0.004688977796816615, -0.031176118002047087, -0.009109805289567206, 0.00291553263006725, 0.07786935739413993, -0.011997329051545783, 0.02433440168328996, 0.02443533546796471, 1.0, 0.002330249288554648, 0.11444189883205855, -0.02713228366150052, -0.007687467589179885, -0.04147365280008225, -0.0032358478314400965, -0.0004756026564295775, 0.0011418945226049225, -0.0023050727802708367], [0.007424698541762061, -0.04288982639879621, -0.003833283780505616, 0.06638399213493763, 0.02466711252303866, -0.009712966954935908, 0.27354672954478104, -0.013870818050987721, -0.04691667375957327, -0.019225310238221258, 0.002330249288554648, 1.0, 0.11945875705111156, -0.03198418349806544, -0.05612855115986148, -0.2235857258466032, -0.04894160056751063, 0.000618685607068436, 0.0010075741790709163, 0.0007060477204532588], [0.019660233287529565, 0.07341811841113897, 0.0020982795929032827, 0.07713483647788005, 0.06814043007329103, 0.0529324097107364, 0.11088249849066975, -0.09015148492109654, 0.07434550150989236, -0.020586299698014492, 0.11444189883205855, 0.11945875705111156, 1.0, 0.05702075220168981, 0.10188606260496424, -0.03972866517220088, 0.1096801762596568, 0.00011749854690258003, 0.0017123749047645808, -0.0016327321086992413], [-0.1103790552530617, -0.09501998604141015, -0.01985166640205034, 0.018781849436177805, 0.17145340130676986, 0.22892623458533695, 0.12661298557924192, -0.4695042092216277, -0.02559929190723717, 0.07910908217537084, -0.02713228366150052, -0.03198418349806544, 0.05702075220168981, 1.0, 0.6720140732364945, 0.6033609356447661, 0.049739550581989554, -0.0007211584819991578, -0.0003923711882106334, 0.00015102871165477135], [-0.08029404551979091, -0.03192876892761362, -0.01756537097094254, 0.027097332675295224, 0.19431602128933323, 0.2648004623475134, 0.16789027966221085, -0.4829782737699677, 0.21376604075338096, -0.05176444280086932, -0.007687467589179885, -0.05612855115986148, 0.10188606260496424, 0.6720140732364945, 1.0, 0.45904672293468296, 0.5295185559167169, 0.00015748103227473823, 3.994389894591031e-05, -0.00019953330199343504], [-0.08458985556290395, -0.08242111326075034, -0.015155591424051847, -0.0020830076991663663, 0.05549470290433797, 0.09090902570175109, -0.0030988781899651163, -0.2647514783728086, -0.010027643387749467, 0.06364215577984055, -0.04147365280008225, -0.2235857258466032, -0.03972866517220088, 0.6033609356447661, 0.45904672293468296, 1.0, 0.009733112990747833, -0.0032738787270795823, -0.001882622443444977, -0.001109697985342522], [-0.00825753471578304, 0.040632915698755816, -0.007318733809471303, 0.002764523307205702, 0.054510431054316806, 0.09140126154928778, 0.10302567760360654, -0.07632966598624964, 0.3746372130972761, -0.22138759824332724, -0.0032358478314400965, -0.04894160056751063, 0.1096801762596568, 0.049739550581989554, 0.5295185559167169, 0.009733112990747833, 1.0, 0.0003435576850778193, -0.0002516306440417137, -0.0010425327140505308], [0.0007107870109302751, -0.0027547928772176152, -0.0017352298133484255, -0.0008913096088880116, 0.001346934846572804, 0.000836685069439264, 0.0006151614108590286, 0.00029375369602914605, 0.004736061017675466, 0.0020724990773793427, -0.0004756026564295775, 0.000618685607068436, 0.00011749854690258003, -0.0007211584819991578, 0.00015748103227473823, -0.0032738787270795823, 0.0003435576850778193, 1.0, -0.002418400505808286, 0.0005263738781031558], [0.000959445718044514, -0.0005111687666647584, 0.002550206784219842, 0.0021944369073186097, -0.0007702025529741213, -0.0005148053458551034, 0.002082608947115474, -0.0018649128433242876, -0.0011165649461987327, -0.0018819075076151636, 0.0011418945226049225, 0.0010075741790709163, 0.0017123749047645808, -0.0003923711882106334, 3.994389894591031e-05, -0.001882622443444977, -0.0002516306440417137, -0.002418400505808286, 1.0, 0.0029476584887376573], [-0.0003343438652039066, 0.0002728672617244673, -0.0013895068501625016, -0.0015381674281423087, 2.2238677956617257e-05, 0.001831731247425484, 2.6878464785687286e-05, -0.0029844425738083198, -0.0036997426767748334, 0.004296716848915781, -0.0023050727802708367, 0.0007060477204532588, -0.0016327321086992413, 0.00015102871165477135, -0.00019953330199343504, -0.001109697985342522, -0.0010425327140505308, 0.0005263738781031558, 0.0029476584887376573, 1.0]], \"reversescale\": false, \"type\": \"heatmap\", \"x\": [\"ps_ind_02_cat\", \"ps_ind_04_cat\", \"ps_ind_05_cat\", \"ps_reg_01\", \"ps_reg_02\", \"ps_reg_03\", \"ps_car_01_cat\", \"ps_car_02_cat\", \"ps_car_03_cat\", \"ps_car_05_cat\", \"ps_car_07_cat\", \"ps_car_09_cat\", \"ps_car_11\", \"ps_car_12\", \"ps_car_13\", \"ps_car_14\", \"ps_car_15\", \"ps_calc_01\", \"ps_calc_02\", \"ps_calc_03\"]}], {\"width\": 900, \"yaxis\": {\"ticks\": \"\"}, \"height\": 700, \"title\": \"Pearson Correlation of Integer-type features\", \"xaxis\": {\"nticks\": 36, \"ticks\": \"\"}}, {\"linkText\": \"Export to plot.ly\", \"showLink\": true})});</script>"
      ]
     },
     "metadata": {},
     "output_type": "display_data"
    }
   ],
   "source": [
    "data_vis = [\n",
    "    go.Heatmap(\n",
    "        z= data_non_cat.corr().values,\n",
    "        x= data_non_cat.columns.values,\n",
    "        y= data_non_cat.columns.values,\n",
    "        colorscale='Viridis',\n",
    "        reversescale = False,\n",
    "        text = True,\n",
    "        opacity = 1.0 )\n",
    "]\n",
    "\n",
    "layout = go.Layout(\n",
    "    title='Pearson Correlation of Integer-type features',\n",
    "    xaxis = dict(ticks='', nticks=36),\n",
    "    yaxis = dict(ticks='' ),\n",
    "    width = 900, height = 700)\n",
    "\n",
    "fig = go.Figure(data=data_vis, layout=layout)\n",
    "py.iplot(fig, filename='labelled-heatmap')"
   ]
  },
  {
   "cell_type": "code",
   "execution_count": 13,
   "metadata": {
    "collapsed": true
   },
   "outputs": [],
   "source": [
    "bin_col = [col for col in data_new.columns if '_bin' in col]\n",
    "zero_list = []\n",
    "one_list = []\n",
    "for col in bin_col:\n",
    "    zero_list.append((data_new[col]==0).sum())\n",
    "    one_list.append((data_new[col]==1).sum())\n"
   ]
  },
  {
   "cell_type": "code",
   "execution_count": 14,
   "metadata": {},
   "outputs": [
    {
     "data": {
      "application/vnd.plotly.v1+json": {
       "data": [
        {
         "name": "Zero count",
         "type": "bar",
         "x": [
          "ps_ind_06_bin",
          "ps_ind_07_bin",
          "ps_ind_08_bin",
          "ps_ind_09_bin",
          "ps_ind_10_bin",
          "ps_ind_11_bin",
          "ps_ind_12_bin",
          "ps_ind_13_bin",
          "ps_ind_16_bin",
          "ps_ind_17_bin",
          "ps_ind_18_bin",
          "ps_car_08_cat_bin",
          "ps_calc_15_bin",
          "ps_calc_16_bin",
          "ps_calc_17_bin",
          "ps_calc_18_bin",
          "ps_calc_19_bin",
          "ps_calc_20_bin"
         ],
         "y": [
          360852,
          442223,
          497644,
          484917,
          594990,
          594205,
          589594,
          594648,
          201882,
          523143,
          503879,
          99948,
          522342,
          221514,
          265356,
          424278,
          387469,
          503955
         ]
        },
        {
         "name": "One count",
         "type": "bar",
         "x": [
          "ps_ind_06_bin",
          "ps_ind_07_bin",
          "ps_ind_08_bin",
          "ps_ind_09_bin",
          "ps_ind_10_bin",
          "ps_ind_11_bin",
          "ps_ind_12_bin",
          "ps_ind_13_bin",
          "ps_ind_16_bin",
          "ps_ind_17_bin",
          "ps_ind_18_bin",
          "ps_car_08_cat_bin",
          "ps_calc_15_bin",
          "ps_calc_16_bin",
          "ps_calc_17_bin",
          "ps_calc_18_bin",
          "ps_calc_19_bin",
          "ps_calc_20_bin"
         ],
         "y": [
          234360,
          152989,
          97568,
          110295,
          222,
          1007,
          5618,
          564,
          393330,
          72069,
          91333,
          495264,
          72870,
          373698,
          329856,
          170934,
          207743,
          91257
         ]
        }
       ],
       "layout": {
        "barmode": "stack",
        "title": "Count of 1 and 0 in binary variables"
       }
      },
      "text/html": [
       "<div id=\"44a26bdb-27fa-48b9-8e2b-c8d3d2d881f1\" style=\"height: 525px; width: 100%;\" class=\"plotly-graph-div\"></div><script type=\"text/javascript\">require([\"plotly\"], function(Plotly) { window.PLOTLYENV=window.PLOTLYENV || {};window.PLOTLYENV.BASE_URL=\"https://plot.ly\";Plotly.newPlot(\"44a26bdb-27fa-48b9-8e2b-c8d3d2d881f1\", [{\"name\": \"Zero count\", \"y\": [360852, 442223, 497644, 484917, 594990, 594205, 589594, 594648, 201882, 523143, 503879, 99948, 522342, 221514, 265356, 424278, 387469, 503955], \"type\": \"bar\", \"x\": [\"ps_ind_06_bin\", \"ps_ind_07_bin\", \"ps_ind_08_bin\", \"ps_ind_09_bin\", \"ps_ind_10_bin\", \"ps_ind_11_bin\", \"ps_ind_12_bin\", \"ps_ind_13_bin\", \"ps_ind_16_bin\", \"ps_ind_17_bin\", \"ps_ind_18_bin\", \"ps_car_08_cat_bin\", \"ps_calc_15_bin\", \"ps_calc_16_bin\", \"ps_calc_17_bin\", \"ps_calc_18_bin\", \"ps_calc_19_bin\", \"ps_calc_20_bin\"]}, {\"name\": \"One count\", \"y\": [234360, 152989, 97568, 110295, 222, 1007, 5618, 564, 393330, 72069, 91333, 495264, 72870, 373698, 329856, 170934, 207743, 91257], \"type\": \"bar\", \"x\": [\"ps_ind_06_bin\", \"ps_ind_07_bin\", \"ps_ind_08_bin\", \"ps_ind_09_bin\", \"ps_ind_10_bin\", \"ps_ind_11_bin\", \"ps_ind_12_bin\", \"ps_ind_13_bin\", \"ps_ind_16_bin\", \"ps_ind_17_bin\", \"ps_ind_18_bin\", \"ps_car_08_cat_bin\", \"ps_calc_15_bin\", \"ps_calc_16_bin\", \"ps_calc_17_bin\", \"ps_calc_18_bin\", \"ps_calc_19_bin\", \"ps_calc_20_bin\"]}], {\"barmode\": \"stack\", \"title\": \"Count of 1 and 0 in binary variables\"}, {\"linkText\": \"Export to plot.ly\", \"showLink\": true})});</script>"
      ],
      "text/vnd.plotly.v1+html": [
       "<div id=\"44a26bdb-27fa-48b9-8e2b-c8d3d2d881f1\" style=\"height: 525px; width: 100%;\" class=\"plotly-graph-div\"></div><script type=\"text/javascript\">require([\"plotly\"], function(Plotly) { window.PLOTLYENV=window.PLOTLYENV || {};window.PLOTLYENV.BASE_URL=\"https://plot.ly\";Plotly.newPlot(\"44a26bdb-27fa-48b9-8e2b-c8d3d2d881f1\", [{\"name\": \"Zero count\", \"y\": [360852, 442223, 497644, 484917, 594990, 594205, 589594, 594648, 201882, 523143, 503879, 99948, 522342, 221514, 265356, 424278, 387469, 503955], \"type\": \"bar\", \"x\": [\"ps_ind_06_bin\", \"ps_ind_07_bin\", \"ps_ind_08_bin\", \"ps_ind_09_bin\", \"ps_ind_10_bin\", \"ps_ind_11_bin\", \"ps_ind_12_bin\", \"ps_ind_13_bin\", \"ps_ind_16_bin\", \"ps_ind_17_bin\", \"ps_ind_18_bin\", \"ps_car_08_cat_bin\", \"ps_calc_15_bin\", \"ps_calc_16_bin\", \"ps_calc_17_bin\", \"ps_calc_18_bin\", \"ps_calc_19_bin\", \"ps_calc_20_bin\"]}, {\"name\": \"One count\", \"y\": [234360, 152989, 97568, 110295, 222, 1007, 5618, 564, 393330, 72069, 91333, 495264, 72870, 373698, 329856, 170934, 207743, 91257], \"type\": \"bar\", \"x\": [\"ps_ind_06_bin\", \"ps_ind_07_bin\", \"ps_ind_08_bin\", \"ps_ind_09_bin\", \"ps_ind_10_bin\", \"ps_ind_11_bin\", \"ps_ind_12_bin\", \"ps_ind_13_bin\", \"ps_ind_16_bin\", \"ps_ind_17_bin\", \"ps_ind_18_bin\", \"ps_car_08_cat_bin\", \"ps_calc_15_bin\", \"ps_calc_16_bin\", \"ps_calc_17_bin\", \"ps_calc_18_bin\", \"ps_calc_19_bin\", \"ps_calc_20_bin\"]}], {\"barmode\": \"stack\", \"title\": \"Count of 1 and 0 in binary variables\"}, {\"linkText\": \"Export to plot.ly\", \"showLink\": true})});</script>"
      ]
     },
     "metadata": {},
     "output_type": "display_data"
    }
   ],
   "source": [
    "trace1 = go.Bar(\n",
    "    x=bin_col,\n",
    "    y=zero_list ,\n",
    "    name='Zero count'\n",
    ")\n",
    "trace2 = go.Bar(\n",
    "    x=bin_col,\n",
    "    y=one_list,\n",
    "    name='One count'\n",
    ")\n",
    "\n",
    "data_bi = [trace1, trace2]\n",
    "layout = go.Layout(\n",
    "    barmode='stack',\n",
    "    title='Count of 1 and 0 in binary variables'\n",
    ")\n",
    "\n",
    "fig = go.Figure(data=data_bi, layout=layout)\n",
    "py.iplot(fig, filename='stacked-bar')"
   ]
  },
  {
   "cell_type": "code",
   "execution_count": 15,
   "metadata": {
    "collapsed": true
   },
   "outputs": [],
   "source": [
    "from sklearn.ensemble import RandomForestClassifier\n",
    "\n",
    "rfc_draw = RandomForestClassifier()\n",
    "rfc_draw.fit(data.drop(['id','target'],axis=1).fillna(-1), data.target)\n",
    "features = data.drop(['id', 'target'],axis=1).columns.values"
   ]
  },
  {
   "cell_type": "code",
   "execution_count": 16,
   "metadata": {},
   "outputs": [
    {
     "data": {
      "application/vnd.plotly.v1+json": {
       "data": [
        {
         "marker": {
          "color": [
           0.023795813859713418,
           0.011610157864006135,
           0.031838417621211326,
           0.008256864721343017,
           0.009585919510130065,
           0.003261185047775295,
           0.005077648142274462,
           0.004939546688724986,
           0.004535889918553114,
           0.00016584789947123282,
           0.00029728051220099004,
           0.0009661549872281424,
           0.00016569036864277437,
           0.0012186897279707568,
           0.03205806802827222,
           0.004294105975407457,
           0.0032293024701018185,
           0.0038483347149500047,
           0.023478910117228254,
           0.029233065870529547,
           0.05207428432925356,
           0.021076195156007553,
           0.0046661859346007,
           0.006189216867544485,
           0.006570863914914701,
           0.010320111852197824,
           0.02369709635293244,
           0.004259814170038186,
           0.004712974780098876,
           0.012716035928215259,
           0.0016546773603997454,
           0.03180730477225514,
           0.011747069672347867,
           0.022308435714969425,
           0.05909607960329284,
           0.039191009131483275,
           0.025784138665628918,
           0.03087106109476535,
           0.031061795464390085,
           0.030849745460223017,
           0.024276471974056135,
           0.02377194468870713,
           0.026029192885594965,
           0.028688836404267615,
           0.02850118557166174,
           0.025947629784882048,
           0.03798095575448625,
           0.03597533190105111,
           0.023732330387065466,
           0.029553308916885207,
           0.03632420726696717,
           0.006215618026268011,
           0.008708540426776122,
           0.008614495427937052,
           0.007916329196199511,
           0.00854437538802724,
           0.006708255727872994
          ],
          "colorscale": "Portland",
          "showscale": true,
          "size": 13,
          "sizemode": "diameter",
          "sizeref": 1
         },
         "mode": "markers",
         "text": [
          "ps_ind_01",
          "ps_ind_02_cat",
          "ps_ind_03",
          "ps_ind_04_cat",
          "ps_ind_05_cat",
          "ps_ind_06_bin",
          "ps_ind_07_bin",
          "ps_ind_08_bin",
          "ps_ind_09_bin",
          "ps_ind_10_bin",
          "ps_ind_11_bin",
          "ps_ind_12_bin",
          "ps_ind_13_bin",
          "ps_ind_14",
          "ps_ind_15",
          "ps_ind_16_bin",
          "ps_ind_17_bin",
          "ps_ind_18_bin",
          "ps_reg_01",
          "ps_reg_02",
          "ps_reg_03",
          "ps_car_01_cat",
          "ps_car_02_cat",
          "ps_car_03_cat",
          "ps_car_04_cat",
          "ps_car_05_cat",
          "ps_car_06_cat",
          "ps_car_07_cat",
          "ps_car_08_cat",
          "ps_car_09_cat",
          "ps_car_10_cat",
          "ps_car_11_cat",
          "ps_car_11",
          "ps_car_12",
          "ps_car_13",
          "ps_car_14",
          "ps_car_15",
          "ps_calc_01",
          "ps_calc_02",
          "ps_calc_03",
          "ps_calc_04",
          "ps_calc_05",
          "ps_calc_06",
          "ps_calc_07",
          "ps_calc_08",
          "ps_calc_09",
          "ps_calc_10",
          "ps_calc_11",
          "ps_calc_12",
          "ps_calc_13",
          "ps_calc_14",
          "ps_calc_15_bin",
          "ps_calc_16_bin",
          "ps_calc_17_bin",
          "ps_calc_18_bin",
          "ps_calc_19_bin",
          "ps_calc_20_bin"
         ],
         "type": "scatter",
         "x": [
          "ps_ind_01",
          "ps_ind_02_cat",
          "ps_ind_03",
          "ps_ind_04_cat",
          "ps_ind_05_cat",
          "ps_ind_06_bin",
          "ps_ind_07_bin",
          "ps_ind_08_bin",
          "ps_ind_09_bin",
          "ps_ind_10_bin",
          "ps_ind_11_bin",
          "ps_ind_12_bin",
          "ps_ind_13_bin",
          "ps_ind_14",
          "ps_ind_15",
          "ps_ind_16_bin",
          "ps_ind_17_bin",
          "ps_ind_18_bin",
          "ps_reg_01",
          "ps_reg_02",
          "ps_reg_03",
          "ps_car_01_cat",
          "ps_car_02_cat",
          "ps_car_03_cat",
          "ps_car_04_cat",
          "ps_car_05_cat",
          "ps_car_06_cat",
          "ps_car_07_cat",
          "ps_car_08_cat",
          "ps_car_09_cat",
          "ps_car_10_cat",
          "ps_car_11_cat",
          "ps_car_11",
          "ps_car_12",
          "ps_car_13",
          "ps_car_14",
          "ps_car_15",
          "ps_calc_01",
          "ps_calc_02",
          "ps_calc_03",
          "ps_calc_04",
          "ps_calc_05",
          "ps_calc_06",
          "ps_calc_07",
          "ps_calc_08",
          "ps_calc_09",
          "ps_calc_10",
          "ps_calc_11",
          "ps_calc_12",
          "ps_calc_13",
          "ps_calc_14",
          "ps_calc_15_bin",
          "ps_calc_16_bin",
          "ps_calc_17_bin",
          "ps_calc_18_bin",
          "ps_calc_19_bin",
          "ps_calc_20_bin"
         ],
         "y": [
          0.023795813859713418,
          0.011610157864006135,
          0.031838417621211326,
          0.008256864721343017,
          0.009585919510130065,
          0.003261185047775295,
          0.005077648142274462,
          0.004939546688724986,
          0.004535889918553114,
          0.00016584789947123282,
          0.00029728051220099004,
          0.0009661549872281424,
          0.00016569036864277437,
          0.0012186897279707568,
          0.03205806802827222,
          0.004294105975407457,
          0.0032293024701018185,
          0.0038483347149500047,
          0.023478910117228254,
          0.029233065870529547,
          0.05207428432925356,
          0.021076195156007553,
          0.0046661859346007,
          0.006189216867544485,
          0.006570863914914701,
          0.010320111852197824,
          0.02369709635293244,
          0.004259814170038186,
          0.004712974780098876,
          0.012716035928215259,
          0.0016546773603997454,
          0.03180730477225514,
          0.011747069672347867,
          0.022308435714969425,
          0.05909607960329284,
          0.039191009131483275,
          0.025784138665628918,
          0.03087106109476535,
          0.031061795464390085,
          0.030849745460223017,
          0.024276471974056135,
          0.02377194468870713,
          0.026029192885594965,
          0.028688836404267615,
          0.02850118557166174,
          0.025947629784882048,
          0.03798095575448625,
          0.03597533190105111,
          0.023732330387065466,
          0.029553308916885207,
          0.03632420726696717,
          0.006215618026268011,
          0.008708540426776122,
          0.008614495427937052,
          0.007916329196199511,
          0.00854437538802724,
          0.006708255727872994
         ]
        }
       ],
       "layout": {
        "autosize": true,
        "hovermode": "closest",
        "showlegend": false,
        "title": "Gradient Boosting Machine Feature Importance",
        "xaxis": {
         "showgrid": false,
         "showline": false,
         "ticklen": 5,
         "zeroline": false
        },
        "yaxis": {
         "gridwidth": 2,
         "showgrid": false,
         "ticklen": 5,
         "title": "Feature Importance",
         "zeroline": false
        }
       }
      },
      "text/html": [
       "<div id=\"40e2435e-d701-4a64-a4bf-913fbc90d30e\" style=\"height: 525px; width: 100%;\" class=\"plotly-graph-div\"></div><script type=\"text/javascript\">require([\"plotly\"], function(Plotly) { window.PLOTLYENV=window.PLOTLYENV || {};window.PLOTLYENV.BASE_URL=\"https://plot.ly\";Plotly.newPlot(\"40e2435e-d701-4a64-a4bf-913fbc90d30e\", [{\"text\": [\"ps_ind_01\", \"ps_ind_02_cat\", \"ps_ind_03\", \"ps_ind_04_cat\", \"ps_ind_05_cat\", \"ps_ind_06_bin\", \"ps_ind_07_bin\", \"ps_ind_08_bin\", \"ps_ind_09_bin\", \"ps_ind_10_bin\", \"ps_ind_11_bin\", \"ps_ind_12_bin\", \"ps_ind_13_bin\", \"ps_ind_14\", \"ps_ind_15\", \"ps_ind_16_bin\", \"ps_ind_17_bin\", \"ps_ind_18_bin\", \"ps_reg_01\", \"ps_reg_02\", \"ps_reg_03\", \"ps_car_01_cat\", \"ps_car_02_cat\", \"ps_car_03_cat\", \"ps_car_04_cat\", \"ps_car_05_cat\", \"ps_car_06_cat\", \"ps_car_07_cat\", \"ps_car_08_cat\", \"ps_car_09_cat\", \"ps_car_10_cat\", \"ps_car_11_cat\", \"ps_car_11\", \"ps_car_12\", \"ps_car_13\", \"ps_car_14\", \"ps_car_15\", \"ps_calc_01\", \"ps_calc_02\", \"ps_calc_03\", \"ps_calc_04\", \"ps_calc_05\", \"ps_calc_06\", \"ps_calc_07\", \"ps_calc_08\", \"ps_calc_09\", \"ps_calc_10\", \"ps_calc_11\", \"ps_calc_12\", \"ps_calc_13\", \"ps_calc_14\", \"ps_calc_15_bin\", \"ps_calc_16_bin\", \"ps_calc_17_bin\", \"ps_calc_18_bin\", \"ps_calc_19_bin\", \"ps_calc_20_bin\"], \"mode\": \"markers\", \"type\": \"scatter\", \"y\": [0.023795813859713418, 0.011610157864006135, 0.031838417621211326, 0.008256864721343017, 0.009585919510130065, 0.003261185047775295, 0.005077648142274462, 0.004939546688724986, 0.004535889918553114, 0.00016584789947123282, 0.00029728051220099004, 0.0009661549872281424, 0.00016569036864277437, 0.0012186897279707568, 0.03205806802827222, 0.004294105975407457, 0.0032293024701018185, 0.0038483347149500047, 0.023478910117228254, 0.029233065870529547, 0.05207428432925356, 0.021076195156007553, 0.0046661859346007, 0.006189216867544485, 0.006570863914914701, 0.010320111852197824, 0.02369709635293244, 0.004259814170038186, 0.004712974780098876, 0.012716035928215259, 0.0016546773603997454, 0.03180730477225514, 0.011747069672347867, 0.022308435714969425, 0.05909607960329284, 0.039191009131483275, 0.025784138665628918, 0.03087106109476535, 0.031061795464390085, 0.030849745460223017, 0.024276471974056135, 0.02377194468870713, 0.026029192885594965, 0.028688836404267615, 0.02850118557166174, 0.025947629784882048, 0.03798095575448625, 0.03597533190105111, 0.023732330387065466, 0.029553308916885207, 0.03632420726696717, 0.006215618026268011, 0.008708540426776122, 0.008614495427937052, 0.007916329196199511, 0.00854437538802724, 0.006708255727872994], \"marker\": {\"sizemode\": \"diameter\", \"colorscale\": \"Portland\", \"color\": [0.023795813859713418, 0.011610157864006135, 0.031838417621211326, 0.008256864721343017, 0.009585919510130065, 0.003261185047775295, 0.005077648142274462, 0.004939546688724986, 0.004535889918553114, 0.00016584789947123282, 0.00029728051220099004, 0.0009661549872281424, 0.00016569036864277437, 0.0012186897279707568, 0.03205806802827222, 0.004294105975407457, 0.0032293024701018185, 0.0038483347149500047, 0.023478910117228254, 0.029233065870529547, 0.05207428432925356, 0.021076195156007553, 0.0046661859346007, 0.006189216867544485, 0.006570863914914701, 0.010320111852197824, 0.02369709635293244, 0.004259814170038186, 0.004712974780098876, 0.012716035928215259, 0.0016546773603997454, 0.03180730477225514, 0.011747069672347867, 0.022308435714969425, 0.05909607960329284, 0.039191009131483275, 0.025784138665628918, 0.03087106109476535, 0.031061795464390085, 0.030849745460223017, 0.024276471974056135, 0.02377194468870713, 0.026029192885594965, 0.028688836404267615, 0.02850118557166174, 0.025947629784882048, 0.03798095575448625, 0.03597533190105111, 0.023732330387065466, 0.029553308916885207, 0.03632420726696717, 0.006215618026268011, 0.008708540426776122, 0.008614495427937052, 0.007916329196199511, 0.00854437538802724, 0.006708255727872994], \"showscale\": true, \"size\": 13, \"sizeref\": 1}, \"x\": [\"ps_ind_01\", \"ps_ind_02_cat\", \"ps_ind_03\", \"ps_ind_04_cat\", \"ps_ind_05_cat\", \"ps_ind_06_bin\", \"ps_ind_07_bin\", \"ps_ind_08_bin\", \"ps_ind_09_bin\", \"ps_ind_10_bin\", \"ps_ind_11_bin\", \"ps_ind_12_bin\", \"ps_ind_13_bin\", \"ps_ind_14\", \"ps_ind_15\", \"ps_ind_16_bin\", \"ps_ind_17_bin\", \"ps_ind_18_bin\", \"ps_reg_01\", \"ps_reg_02\", \"ps_reg_03\", \"ps_car_01_cat\", \"ps_car_02_cat\", \"ps_car_03_cat\", \"ps_car_04_cat\", \"ps_car_05_cat\", \"ps_car_06_cat\", \"ps_car_07_cat\", \"ps_car_08_cat\", \"ps_car_09_cat\", \"ps_car_10_cat\", \"ps_car_11_cat\", \"ps_car_11\", \"ps_car_12\", \"ps_car_13\", \"ps_car_14\", \"ps_car_15\", \"ps_calc_01\", \"ps_calc_02\", \"ps_calc_03\", \"ps_calc_04\", \"ps_calc_05\", \"ps_calc_06\", \"ps_calc_07\", \"ps_calc_08\", \"ps_calc_09\", \"ps_calc_10\", \"ps_calc_11\", \"ps_calc_12\", \"ps_calc_13\", \"ps_calc_14\", \"ps_calc_15_bin\", \"ps_calc_16_bin\", \"ps_calc_17_bin\", \"ps_calc_18_bin\", \"ps_calc_19_bin\", \"ps_calc_20_bin\"]}], {\"yaxis\": {\"title\": \"Feature Importance\", \"showgrid\": false, \"ticklen\": 5, \"gridwidth\": 2, \"zeroline\": false}, \"title\": \"Gradient Boosting Machine Feature Importance\", \"hovermode\": \"closest\", \"autosize\": true, \"xaxis\": {\"showline\": false, \"showgrid\": false, \"ticklen\": 5, \"zeroline\": false}, \"showlegend\": false}, {\"linkText\": \"Export to plot.ly\", \"showLink\": true})});</script>"
      ],
      "text/vnd.plotly.v1+html": [
       "<div id=\"40e2435e-d701-4a64-a4bf-913fbc90d30e\" style=\"height: 525px; width: 100%;\" class=\"plotly-graph-div\"></div><script type=\"text/javascript\">require([\"plotly\"], function(Plotly) { window.PLOTLYENV=window.PLOTLYENV || {};window.PLOTLYENV.BASE_URL=\"https://plot.ly\";Plotly.newPlot(\"40e2435e-d701-4a64-a4bf-913fbc90d30e\", [{\"text\": [\"ps_ind_01\", \"ps_ind_02_cat\", \"ps_ind_03\", \"ps_ind_04_cat\", \"ps_ind_05_cat\", \"ps_ind_06_bin\", \"ps_ind_07_bin\", \"ps_ind_08_bin\", \"ps_ind_09_bin\", \"ps_ind_10_bin\", \"ps_ind_11_bin\", \"ps_ind_12_bin\", \"ps_ind_13_bin\", \"ps_ind_14\", \"ps_ind_15\", \"ps_ind_16_bin\", \"ps_ind_17_bin\", \"ps_ind_18_bin\", \"ps_reg_01\", \"ps_reg_02\", \"ps_reg_03\", \"ps_car_01_cat\", \"ps_car_02_cat\", \"ps_car_03_cat\", \"ps_car_04_cat\", \"ps_car_05_cat\", \"ps_car_06_cat\", \"ps_car_07_cat\", \"ps_car_08_cat\", \"ps_car_09_cat\", \"ps_car_10_cat\", \"ps_car_11_cat\", \"ps_car_11\", \"ps_car_12\", \"ps_car_13\", \"ps_car_14\", \"ps_car_15\", \"ps_calc_01\", \"ps_calc_02\", \"ps_calc_03\", \"ps_calc_04\", \"ps_calc_05\", \"ps_calc_06\", \"ps_calc_07\", \"ps_calc_08\", \"ps_calc_09\", \"ps_calc_10\", \"ps_calc_11\", \"ps_calc_12\", \"ps_calc_13\", \"ps_calc_14\", \"ps_calc_15_bin\", \"ps_calc_16_bin\", \"ps_calc_17_bin\", \"ps_calc_18_bin\", \"ps_calc_19_bin\", \"ps_calc_20_bin\"], \"mode\": \"markers\", \"type\": \"scatter\", \"y\": [0.023795813859713418, 0.011610157864006135, 0.031838417621211326, 0.008256864721343017, 0.009585919510130065, 0.003261185047775295, 0.005077648142274462, 0.004939546688724986, 0.004535889918553114, 0.00016584789947123282, 0.00029728051220099004, 0.0009661549872281424, 0.00016569036864277437, 0.0012186897279707568, 0.03205806802827222, 0.004294105975407457, 0.0032293024701018185, 0.0038483347149500047, 0.023478910117228254, 0.029233065870529547, 0.05207428432925356, 0.021076195156007553, 0.0046661859346007, 0.006189216867544485, 0.006570863914914701, 0.010320111852197824, 0.02369709635293244, 0.004259814170038186, 0.004712974780098876, 0.012716035928215259, 0.0016546773603997454, 0.03180730477225514, 0.011747069672347867, 0.022308435714969425, 0.05909607960329284, 0.039191009131483275, 0.025784138665628918, 0.03087106109476535, 0.031061795464390085, 0.030849745460223017, 0.024276471974056135, 0.02377194468870713, 0.026029192885594965, 0.028688836404267615, 0.02850118557166174, 0.025947629784882048, 0.03798095575448625, 0.03597533190105111, 0.023732330387065466, 0.029553308916885207, 0.03632420726696717, 0.006215618026268011, 0.008708540426776122, 0.008614495427937052, 0.007916329196199511, 0.00854437538802724, 0.006708255727872994], \"marker\": {\"sizemode\": \"diameter\", \"colorscale\": \"Portland\", \"color\": [0.023795813859713418, 0.011610157864006135, 0.031838417621211326, 0.008256864721343017, 0.009585919510130065, 0.003261185047775295, 0.005077648142274462, 0.004939546688724986, 0.004535889918553114, 0.00016584789947123282, 0.00029728051220099004, 0.0009661549872281424, 0.00016569036864277437, 0.0012186897279707568, 0.03205806802827222, 0.004294105975407457, 0.0032293024701018185, 0.0038483347149500047, 0.023478910117228254, 0.029233065870529547, 0.05207428432925356, 0.021076195156007553, 0.0046661859346007, 0.006189216867544485, 0.006570863914914701, 0.010320111852197824, 0.02369709635293244, 0.004259814170038186, 0.004712974780098876, 0.012716035928215259, 0.0016546773603997454, 0.03180730477225514, 0.011747069672347867, 0.022308435714969425, 0.05909607960329284, 0.039191009131483275, 0.025784138665628918, 0.03087106109476535, 0.031061795464390085, 0.030849745460223017, 0.024276471974056135, 0.02377194468870713, 0.026029192885594965, 0.028688836404267615, 0.02850118557166174, 0.025947629784882048, 0.03798095575448625, 0.03597533190105111, 0.023732330387065466, 0.029553308916885207, 0.03632420726696717, 0.006215618026268011, 0.008708540426776122, 0.008614495427937052, 0.007916329196199511, 0.00854437538802724, 0.006708255727872994], \"showscale\": true, \"size\": 13, \"sizeref\": 1}, \"x\": [\"ps_ind_01\", \"ps_ind_02_cat\", \"ps_ind_03\", \"ps_ind_04_cat\", \"ps_ind_05_cat\", \"ps_ind_06_bin\", \"ps_ind_07_bin\", \"ps_ind_08_bin\", \"ps_ind_09_bin\", \"ps_ind_10_bin\", \"ps_ind_11_bin\", \"ps_ind_12_bin\", \"ps_ind_13_bin\", \"ps_ind_14\", \"ps_ind_15\", \"ps_ind_16_bin\", \"ps_ind_17_bin\", \"ps_ind_18_bin\", \"ps_reg_01\", \"ps_reg_02\", \"ps_reg_03\", \"ps_car_01_cat\", \"ps_car_02_cat\", \"ps_car_03_cat\", \"ps_car_04_cat\", \"ps_car_05_cat\", \"ps_car_06_cat\", \"ps_car_07_cat\", \"ps_car_08_cat\", \"ps_car_09_cat\", \"ps_car_10_cat\", \"ps_car_11_cat\", \"ps_car_11\", \"ps_car_12\", \"ps_car_13\", \"ps_car_14\", \"ps_car_15\", \"ps_calc_01\", \"ps_calc_02\", \"ps_calc_03\", \"ps_calc_04\", \"ps_calc_05\", \"ps_calc_06\", \"ps_calc_07\", \"ps_calc_08\", \"ps_calc_09\", \"ps_calc_10\", \"ps_calc_11\", \"ps_calc_12\", \"ps_calc_13\", \"ps_calc_14\", \"ps_calc_15_bin\", \"ps_calc_16_bin\", \"ps_calc_17_bin\", \"ps_calc_18_bin\", \"ps_calc_19_bin\", \"ps_calc_20_bin\"]}], {\"yaxis\": {\"title\": \"Feature Importance\", \"showgrid\": false, \"ticklen\": 5, \"gridwidth\": 2, \"zeroline\": false}, \"title\": \"Gradient Boosting Machine Feature Importance\", \"hovermode\": \"closest\", \"autosize\": true, \"xaxis\": {\"showline\": false, \"showgrid\": false, \"ticklen\": 5, \"zeroline\": false}, \"showlegend\": false}, {\"linkText\": \"Export to plot.ly\", \"showLink\": true})});</script>"
      ]
     },
     "metadata": {},
     "output_type": "display_data"
    }
   ],
   "source": [
    "feature_scatter(rfc_draw, features)"
   ]
  },
  {
   "cell_type": "code",
   "execution_count": 17,
   "metadata": {},
   "outputs": [
    {
     "data": {
      "application/vnd.plotly.v1+json": {
       "data": [
        {
         "marker": {
          "color": [
           0.00016569036864277437,
           0.00016584789947123282,
           0.00029728051220099004,
           0.0009661549872281424,
           0.0012186897279707568,
           0.0016546773603997454,
           0.0032293024701018185,
           0.003261185047775295,
           0.0038483347149500047,
           0.004259814170038186,
           0.004294105975407457,
           0.004535889918553114,
           0.0046661859346007,
           0.004712974780098876,
           0.004939546688724986,
           0.005077648142274462,
           0.006189216867544485,
           0.006215618026268011,
           0.006570863914914701,
           0.006708255727872994,
           0.007916329196199511,
           0.008256864721343017,
           0.00854437538802724,
           0.008614495427937052,
           0.008708540426776122,
           0.009585919510130065,
           0.010320111852197824,
           0.011610157864006135,
           0.011747069672347867,
           0.012716035928215259,
           0.021076195156007553,
           0.022308435714969425,
           0.023478910117228254,
           0.02369709635293244,
           0.023732330387065466,
           0.02377194468870713,
           0.023795813859713418,
           0.024276471974056135,
           0.025784138665628918,
           0.025947629784882048,
           0.026029192885594965,
           0.02850118557166174,
           0.028688836404267615,
           0.029233065870529547,
           0.029553308916885207,
           0.030849745460223017,
           0.03087106109476535,
           0.031061795464390085,
           0.03180730477225514,
           0.031838417621211326,
           0.03205806802827222,
           0.03597533190105111,
           0.03632420726696717,
           0.03798095575448625,
           0.039191009131483275,
           0.05207428432925356,
           0.05909607960329284
          ],
          "colorscale": "Viridis",
          "reversescale": true
         },
         "name": "Gradient Boosting Classifer Feature importance",
         "orientation": "h",
         "type": "bar",
         "x": [
          0.00016569036864277437,
          0.00016584789947123282,
          0.00029728051220099004,
          0.0009661549872281424,
          0.0012186897279707568,
          0.0016546773603997454,
          0.0032293024701018185,
          0.003261185047775295,
          0.0038483347149500047,
          0.004259814170038186,
          0.004294105975407457,
          0.004535889918553114,
          0.0046661859346007,
          0.004712974780098876,
          0.004939546688724986,
          0.005077648142274462,
          0.006189216867544485,
          0.006215618026268011,
          0.006570863914914701,
          0.006708255727872994,
          0.007916329196199511,
          0.008256864721343017,
          0.00854437538802724,
          0.008614495427937052,
          0.008708540426776122,
          0.009585919510130065,
          0.010320111852197824,
          0.011610157864006135,
          0.011747069672347867,
          0.012716035928215259,
          0.021076195156007553,
          0.022308435714969425,
          0.023478910117228254,
          0.02369709635293244,
          0.023732330387065466,
          0.02377194468870713,
          0.023795813859713418,
          0.024276471974056135,
          0.025784138665628918,
          0.025947629784882048,
          0.026029192885594965,
          0.02850118557166174,
          0.028688836404267615,
          0.029233065870529547,
          0.029553308916885207,
          0.030849745460223017,
          0.03087106109476535,
          0.031061795464390085,
          0.03180730477225514,
          0.031838417621211326,
          0.03205806802827222,
          0.03597533190105111,
          0.03632420726696717,
          0.03798095575448625,
          0.039191009131483275,
          0.05207428432925356,
          0.05909607960329284
         ],
         "y": [
          "ps_ind_13_bin",
          "ps_ind_10_bin",
          "ps_ind_11_bin",
          "ps_ind_12_bin",
          "ps_ind_14",
          "ps_car_10_cat",
          "ps_ind_17_bin",
          "ps_ind_06_bin",
          "ps_ind_18_bin",
          "ps_car_07_cat",
          "ps_ind_16_bin",
          "ps_ind_09_bin",
          "ps_car_02_cat",
          "ps_car_08_cat",
          "ps_ind_08_bin",
          "ps_ind_07_bin",
          "ps_car_03_cat",
          "ps_calc_15_bin",
          "ps_car_04_cat",
          "ps_calc_20_bin",
          "ps_calc_18_bin",
          "ps_ind_04_cat",
          "ps_calc_19_bin",
          "ps_calc_17_bin",
          "ps_calc_16_bin",
          "ps_ind_05_cat",
          "ps_car_05_cat",
          "ps_ind_02_cat",
          "ps_car_11",
          "ps_car_09_cat",
          "ps_car_01_cat",
          "ps_car_12",
          "ps_reg_01",
          "ps_car_06_cat",
          "ps_calc_12",
          "ps_calc_05",
          "ps_ind_01",
          "ps_calc_04",
          "ps_car_15",
          "ps_calc_09",
          "ps_calc_06",
          "ps_calc_08",
          "ps_calc_07",
          "ps_reg_02",
          "ps_calc_13",
          "ps_calc_03",
          "ps_calc_01",
          "ps_calc_02",
          "ps_car_11_cat",
          "ps_ind_03",
          "ps_ind_15",
          "ps_calc_11",
          "ps_calc_14",
          "ps_calc_10",
          "ps_car_14",
          "ps_reg_03",
          "ps_car_13"
         ]
        }
       ],
       "layout": {
        "height": 2000,
        "title": "Barplot of Feature importances",
        "width": 900,
        "yaxis": {
         "showgrid": false,
         "showline": false,
         "showticklabels": true
        }
       }
      },
      "text/html": [
       "<div id=\"71a05e9e-32ab-4e49-82b9-04992b8b3651\" style=\"height: 2000px; width: 900px;\" class=\"plotly-graph-div\"></div><script type=\"text/javascript\">require([\"plotly\"], function(Plotly) { window.PLOTLYENV=window.PLOTLYENV || {};window.PLOTLYENV.BASE_URL=\"https://plot.ly\";Plotly.newPlot(\"71a05e9e-32ab-4e49-82b9-04992b8b3651\", [{\"name\": \"Gradient Boosting Classifer Feature importance\", \"orientation\": \"h\", \"y\": [\"ps_ind_13_bin\", \"ps_ind_10_bin\", \"ps_ind_11_bin\", \"ps_ind_12_bin\", \"ps_ind_14\", \"ps_car_10_cat\", \"ps_ind_17_bin\", \"ps_ind_06_bin\", \"ps_ind_18_bin\", \"ps_car_07_cat\", \"ps_ind_16_bin\", \"ps_ind_09_bin\", \"ps_car_02_cat\", \"ps_car_08_cat\", \"ps_ind_08_bin\", \"ps_ind_07_bin\", \"ps_car_03_cat\", \"ps_calc_15_bin\", \"ps_car_04_cat\", \"ps_calc_20_bin\", \"ps_calc_18_bin\", \"ps_ind_04_cat\", \"ps_calc_19_bin\", \"ps_calc_17_bin\", \"ps_calc_16_bin\", \"ps_ind_05_cat\", \"ps_car_05_cat\", \"ps_ind_02_cat\", \"ps_car_11\", \"ps_car_09_cat\", \"ps_car_01_cat\", \"ps_car_12\", \"ps_reg_01\", \"ps_car_06_cat\", \"ps_calc_12\", \"ps_calc_05\", \"ps_ind_01\", \"ps_calc_04\", \"ps_car_15\", \"ps_calc_09\", \"ps_calc_06\", \"ps_calc_08\", \"ps_calc_07\", \"ps_reg_02\", \"ps_calc_13\", \"ps_calc_03\", \"ps_calc_01\", \"ps_calc_02\", \"ps_car_11_cat\", \"ps_ind_03\", \"ps_ind_15\", \"ps_calc_11\", \"ps_calc_14\", \"ps_calc_10\", \"ps_car_14\", \"ps_reg_03\", \"ps_car_13\"], \"marker\": {\"reversescale\": true, \"color\": [0.00016569036864277437, 0.00016584789947123282, 0.00029728051220099004, 0.0009661549872281424, 0.0012186897279707568, 0.0016546773603997454, 0.0032293024701018185, 0.003261185047775295, 0.0038483347149500047, 0.004259814170038186, 0.004294105975407457, 0.004535889918553114, 0.0046661859346007, 0.004712974780098876, 0.004939546688724986, 0.005077648142274462, 0.006189216867544485, 0.006215618026268011, 0.006570863914914701, 0.006708255727872994, 0.007916329196199511, 0.008256864721343017, 0.00854437538802724, 0.008614495427937052, 0.008708540426776122, 0.009585919510130065, 0.010320111852197824, 0.011610157864006135, 0.011747069672347867, 0.012716035928215259, 0.021076195156007553, 0.022308435714969425, 0.023478910117228254, 0.02369709635293244, 0.023732330387065466, 0.02377194468870713, 0.023795813859713418, 0.024276471974056135, 0.025784138665628918, 0.025947629784882048, 0.026029192885594965, 0.02850118557166174, 0.028688836404267615, 0.029233065870529547, 0.029553308916885207, 0.030849745460223017, 0.03087106109476535, 0.031061795464390085, 0.03180730477225514, 0.031838417621211326, 0.03205806802827222, 0.03597533190105111, 0.03632420726696717, 0.03798095575448625, 0.039191009131483275, 0.05207428432925356, 0.05909607960329284], \"colorscale\": \"Viridis\"}, \"type\": \"bar\", \"x\": [0.00016569036864277437, 0.00016584789947123282, 0.00029728051220099004, 0.0009661549872281424, 0.0012186897279707568, 0.0016546773603997454, 0.0032293024701018185, 0.003261185047775295, 0.0038483347149500047, 0.004259814170038186, 0.004294105975407457, 0.004535889918553114, 0.0046661859346007, 0.004712974780098876, 0.004939546688724986, 0.005077648142274462, 0.006189216867544485, 0.006215618026268011, 0.006570863914914701, 0.006708255727872994, 0.007916329196199511, 0.008256864721343017, 0.00854437538802724, 0.008614495427937052, 0.008708540426776122, 0.009585919510130065, 0.010320111852197824, 0.011610157864006135, 0.011747069672347867, 0.012716035928215259, 0.021076195156007553, 0.022308435714969425, 0.023478910117228254, 0.02369709635293244, 0.023732330387065466, 0.02377194468870713, 0.023795813859713418, 0.024276471974056135, 0.025784138665628918, 0.025947629784882048, 0.026029192885594965, 0.02850118557166174, 0.028688836404267615, 0.029233065870529547, 0.029553308916885207, 0.030849745460223017, 0.03087106109476535, 0.031061795464390085, 0.03180730477225514, 0.031838417621211326, 0.03205806802827222, 0.03597533190105111, 0.03632420726696717, 0.03798095575448625, 0.039191009131483275, 0.05207428432925356, 0.05909607960329284]}], {\"width\": 900, \"yaxis\": {\"showline\": false, \"showticklabels\": true, \"showgrid\": false}, \"height\": 2000, \"title\": \"Barplot of Feature importances\"}, {\"linkText\": \"Export to plot.ly\", \"showLink\": true})});</script>"
      ],
      "text/vnd.plotly.v1+html": [
       "<div id=\"71a05e9e-32ab-4e49-82b9-04992b8b3651\" style=\"height: 2000px; width: 900px;\" class=\"plotly-graph-div\"></div><script type=\"text/javascript\">require([\"plotly\"], function(Plotly) { window.PLOTLYENV=window.PLOTLYENV || {};window.PLOTLYENV.BASE_URL=\"https://plot.ly\";Plotly.newPlot(\"71a05e9e-32ab-4e49-82b9-04992b8b3651\", [{\"name\": \"Gradient Boosting Classifer Feature importance\", \"orientation\": \"h\", \"y\": [\"ps_ind_13_bin\", \"ps_ind_10_bin\", \"ps_ind_11_bin\", \"ps_ind_12_bin\", \"ps_ind_14\", \"ps_car_10_cat\", \"ps_ind_17_bin\", \"ps_ind_06_bin\", \"ps_ind_18_bin\", \"ps_car_07_cat\", \"ps_ind_16_bin\", \"ps_ind_09_bin\", \"ps_car_02_cat\", \"ps_car_08_cat\", \"ps_ind_08_bin\", \"ps_ind_07_bin\", \"ps_car_03_cat\", \"ps_calc_15_bin\", \"ps_car_04_cat\", \"ps_calc_20_bin\", \"ps_calc_18_bin\", \"ps_ind_04_cat\", \"ps_calc_19_bin\", \"ps_calc_17_bin\", \"ps_calc_16_bin\", \"ps_ind_05_cat\", \"ps_car_05_cat\", \"ps_ind_02_cat\", \"ps_car_11\", \"ps_car_09_cat\", \"ps_car_01_cat\", \"ps_car_12\", \"ps_reg_01\", \"ps_car_06_cat\", \"ps_calc_12\", \"ps_calc_05\", \"ps_ind_01\", \"ps_calc_04\", \"ps_car_15\", \"ps_calc_09\", \"ps_calc_06\", \"ps_calc_08\", \"ps_calc_07\", \"ps_reg_02\", \"ps_calc_13\", \"ps_calc_03\", \"ps_calc_01\", \"ps_calc_02\", \"ps_car_11_cat\", \"ps_ind_03\", \"ps_ind_15\", \"ps_calc_11\", \"ps_calc_14\", \"ps_calc_10\", \"ps_car_14\", \"ps_reg_03\", \"ps_car_13\"], \"marker\": {\"reversescale\": true, \"color\": [0.00016569036864277437, 0.00016584789947123282, 0.00029728051220099004, 0.0009661549872281424, 0.0012186897279707568, 0.0016546773603997454, 0.0032293024701018185, 0.003261185047775295, 0.0038483347149500047, 0.004259814170038186, 0.004294105975407457, 0.004535889918553114, 0.0046661859346007, 0.004712974780098876, 0.004939546688724986, 0.005077648142274462, 0.006189216867544485, 0.006215618026268011, 0.006570863914914701, 0.006708255727872994, 0.007916329196199511, 0.008256864721343017, 0.00854437538802724, 0.008614495427937052, 0.008708540426776122, 0.009585919510130065, 0.010320111852197824, 0.011610157864006135, 0.011747069672347867, 0.012716035928215259, 0.021076195156007553, 0.022308435714969425, 0.023478910117228254, 0.02369709635293244, 0.023732330387065466, 0.02377194468870713, 0.023795813859713418, 0.024276471974056135, 0.025784138665628918, 0.025947629784882048, 0.026029192885594965, 0.02850118557166174, 0.028688836404267615, 0.029233065870529547, 0.029553308916885207, 0.030849745460223017, 0.03087106109476535, 0.031061795464390085, 0.03180730477225514, 0.031838417621211326, 0.03205806802827222, 0.03597533190105111, 0.03632420726696717, 0.03798095575448625, 0.039191009131483275, 0.05207428432925356, 0.05909607960329284], \"colorscale\": \"Viridis\"}, \"type\": \"bar\", \"x\": [0.00016569036864277437, 0.00016584789947123282, 0.00029728051220099004, 0.0009661549872281424, 0.0012186897279707568, 0.0016546773603997454, 0.0032293024701018185, 0.003261185047775295, 0.0038483347149500047, 0.004259814170038186, 0.004294105975407457, 0.004535889918553114, 0.0046661859346007, 0.004712974780098876, 0.004939546688724986, 0.005077648142274462, 0.006189216867544485, 0.006215618026268011, 0.006570863914914701, 0.006708255727872994, 0.007916329196199511, 0.008256864721343017, 0.00854437538802724, 0.008614495427937052, 0.008708540426776122, 0.009585919510130065, 0.010320111852197824, 0.011610157864006135, 0.011747069672347867, 0.012716035928215259, 0.021076195156007553, 0.022308435714969425, 0.023478910117228254, 0.02369709635293244, 0.023732330387065466, 0.02377194468870713, 0.023795813859713418, 0.024276471974056135, 0.025784138665628918, 0.025947629784882048, 0.026029192885594965, 0.02850118557166174, 0.028688836404267615, 0.029233065870529547, 0.029553308916885207, 0.030849745460223017, 0.03087106109476535, 0.031061795464390085, 0.03180730477225514, 0.031838417621211326, 0.03205806802827222, 0.03597533190105111, 0.03632420726696717, 0.03798095575448625, 0.039191009131483275, 0.05207428432925356, 0.05909607960329284]}], {\"width\": 900, \"yaxis\": {\"showline\": false, \"showticklabels\": true, \"showgrid\": false}, \"height\": 2000, \"title\": \"Barplot of Feature importances\"}, {\"linkText\": \"Export to plot.ly\", \"showLink\": true})});</script>"
      ]
     },
     "metadata": {},
     "output_type": "display_data"
    }
   ],
   "source": [
    "feature_importances(rfc_draw, features)"
   ]
  },
  {
   "cell_type": "markdown",
   "metadata": {},
   "source": [
    "### Feature Engineering"
   ]
  },
  {
   "cell_type": "code",
   "execution_count": 18,
   "metadata": {
    "collapsed": true
   },
   "outputs": [],
   "source": [
    "cla_data = data.drop(['ps_car_10_cat', 'ps_car_03_cat','ps_car_05_cat','ps_ind_10_bin',\n",
    "                      'ps_ind_11_bin', 'ps_ind_12_bin','ps_ind_13_bin','ps_ind_14',\n",
    "                      'id','target'], axis=1)"
   ]
  },
  {
   "cell_type": "code",
   "execution_count": 19,
   "metadata": {
    "collapsed": true
   },
   "outputs": [],
   "source": [
    "cla_data['ps_calc_06_sqr'] = cla_data.ps_calc_06**2\n",
    "cla_data['ps_calc_02_sqr'] = cla_data.ps_calc_02**2\n",
    "cla_data['ps_calc_03_sqr'] = cla_data.ps_calc_03**2"
   ]
  },
  {
   "cell_type": "code",
   "execution_count": 20,
   "metadata": {
    "collapsed": true
   },
   "outputs": [],
   "source": [
    "from sklearn.preprocessing import Imputer\n",
    "imp_cat = Imputer(strategy='most_frequent')\n",
    "imp_con = Imputer(strategy='mean')\n",
    "col_cat = cla_data.select_dtypes(include=['int64']).columns\n",
    "col_con = cla_data.select_dtypes(include=['float64']).columns\n",
    "cats = imp_cat.fit_transform(cla_data.loc[:,col_cat])\n",
    "cons = imp_con.fit_transform(cla_data.loc[:,col_con])"
   ]
  },
  {
   "cell_type": "code",
   "execution_count": 21,
   "metadata": {
    "collapsed": true
   },
   "outputs": [],
   "source": [
    "cats_df = pd.DataFrame(cats)\n",
    "cons_df = pd.DataFrame(cons)\n",
    "cats_df.columns = col_cat\n",
    "cons_df.columns = col_con\n",
    "cla_filled = pd.merge(cats_df, cons_df, left_index=True, right_index=True)"
   ]
  },
  {
   "cell_type": "code",
   "execution_count": 22,
   "metadata": {
    "collapsed": true
   },
   "outputs": [],
   "source": [
    "dfs = []\n",
    "drop_cols = []\n",
    "for col in cats_df.columns:\n",
    "    if cla_filled[col].nunique() >= 3:\n",
    "        #print(selected_train[col].nunique())\n",
    "        drop_cols.append(col)\n",
    "        col_df = pd.get_dummies(cla_filled[col])\n",
    "        col_df = col_df.add_prefix(col)\n",
    "        dfs.append(col_df)"
   ]
  },
  {
   "cell_type": "code",
   "execution_count": 23,
   "metadata": {
    "collapsed": true
   },
   "outputs": [],
   "source": [
    "merged_dummies = pd.DataFrame(np.ones(len(cla_filled)))\n",
    "for df in dfs:\n",
    "    merged_dummies = pd.merge(merged_dummies, df, left_index=True, right_index=True)"
   ]
  },
  {
   "cell_type": "code",
   "execution_count": 24,
   "metadata": {
    "collapsed": true
   },
   "outputs": [],
   "source": [
    "new_train = cla_filled.drop(drop_cols, axis=1)\n",
    "new_train = pd.merge(merged_dummies, new_train, left_index=True, right_index=True)\n",
    "new_train = new_train.drop(0, axis=1)"
   ]
  },
  {
   "cell_type": "code",
   "execution_count": 25,
   "metadata": {
    "collapsed": true
   },
   "outputs": [],
   "source": [
    "emp_cols = np.array(np.zeros([new_train.shape[0],6]))\n",
    "empties = pd.DataFrame(data=emp_cols,\n",
    "                       columns=['ps_calc_081.0','ps_calc_1120.0',\n",
    "                                'ps_calc_1211.0','ps_calc_1314.0',\n",
    "                                'ps_calc_1315.0','ps_calc_1428.0'])\n",
    "new_train = pd.merge(new_train, empties, left_index=True, right_index=True)\n",
    "new_train = new_train.sort_index(axis=1)"
   ]
  },
  {
   "cell_type": "code",
   "execution_count": 26,
   "metadata": {},
   "outputs": [
    {
     "name": "stdout",
     "output_type": "stream",
     "text": [
      "<class 'pandas.core.frame.DataFrame'>\n",
      "RangeIndex: 595212 entries, 0 to 595211\n",
      "Columns: 365 entries, ps_calc_01 to ps_reg_03\n",
      "dtypes: float64(40), uint8(325)\n",
      "memory usage: 366.1 MB\n"
     ]
    }
   ],
   "source": [
    "new_train.info()"
   ]
  },
  {
   "cell_type": "code",
   "execution_count": 27,
   "metadata": {
    "collapsed": true
   },
   "outputs": [],
   "source": [
    "from sklearn.preprocessing import Normalizer\n",
    "norm = Normalizer()\n",
    "norm.fit(new_train)\n",
    "train_norm = norm.transform(new_train)"
   ]
  },
  {
   "cell_type": "markdown",
   "metadata": {},
   "source": [
    "### RFC with selected features and cross validation"
   ]
  },
  {
   "cell_type": "code",
   "execution_count": 28,
   "metadata": {
    "collapsed": true
   },
   "outputs": [],
   "source": [
    "from sklearn.utils.class_weight import compute_class_weight\n",
    "weights = compute_class_weight(class_weight='balanced',\n",
    "                     classes=np.unique(data.target), \n",
    "                     y=data.target)\n",
    "class_weight = {0:weights[0], 1:weights[1]}"
   ]
  },
  {
   "cell_type": "code",
   "execution_count": 501,
   "metadata": {},
   "outputs": [
    {
     "name": "stdout",
     "output_type": "stream",
     "text": [
      "[CV]  ................................................................\n",
      "[CV] ................................................. , total= 2.6min\n",
      "[CV]  ................................................................\n"
     ]
    },
    {
     "name": "stderr",
     "output_type": "stream",
     "text": [
      "[Parallel(n_jobs=1)]: Done   1 out of   1 | elapsed:  2.6min remaining:    0.0s\n"
     ]
    },
    {
     "name": "stdout",
     "output_type": "stream",
     "text": [
      "[CV] ................................................. , total= 2.4min\n",
      "[CV]  ................................................................\n",
      "[CV] ................................................. , total= 2.4min\n",
      "[CV]  ................................................................\n",
      "[CV] ................................................. , total= 2.4min\n",
      "[CV]  ................................................................\n",
      "[CV] ................................................. , total= 2.3min\n"
     ]
    },
    {
     "name": "stderr",
     "output_type": "stream",
     "text": [
      "[Parallel(n_jobs=1)]: Done   5 out of   5 | elapsed: 12.1min finished\n"
     ]
    },
    {
     "data": {
      "text/plain": [
       "array([ 0.24089828,  0.2420711 ,  0.2477142 ,  0.25049856,  0.24559304])"
      ]
     },
     "execution_count": 501,
     "metadata": {},
     "output_type": "execute_result"
    }
   ],
   "source": [
    "#Regular Cross Validation\n",
    "from sklearn.ensemble import RandomForestClassifier\n",
    "from sklearn.model_selection import cross_val_score\n",
    "from sklearn.model_selection import StratifiedKFold\n",
    "\n",
    "rfc = RandomForestClassifier(n_estimators=100, \n",
    "                             max_features='sqrt',\n",
    "                             min_samples_leaf=60,\n",
    "                             max_depth=None,\n",
    "                             min_samples_split=2,\n",
    "                             class_weight=class_weight,\n",
    "                             n_jobs=-1,\n",
    "                             #oob_score=True,\n",
    "                             random_state=39)\n",
    "#Stratified validation startegy\n",
    "cv_1 = StratifiedKFold(n_splits=5, random_state=39).split(#selected_train,\n",
    "                                                          #new_train,\n",
    "                                                          train_norm,\n",
    "                                                          data.target)\n",
    "\n",
    "#Check cross validation scores\n",
    "cross_val_score(rfc, \n",
    "                #selected_train, \n",
    "                #new_train,\n",
    "                train_norm,\n",
    "                data.target, \n",
    "                cv=cv_1, \n",
    "                scoring=gini_sklearn, \n",
    "                verbose=2)"
   ]
  },
  {
   "cell_type": "code",
   "execution_count": 62,
   "metadata": {},
   "outputs": [
    {
     "name": "stderr",
     "output_type": "stream",
     "text": [
      "[Parallel(n_jobs=-1)]: Done  34 tasks      | elapsed:  1.1min\n",
      "[Parallel(n_jobs=-1)]: Done 184 tasks      | elapsed:  5.1min\n",
      "[Parallel(n_jobs=-1)]: Done 300 out of 300 | elapsed:  8.3min finished\n"
     ]
    },
    {
     "data": {
      "text/plain": [
       "RandomForestClassifier(bootstrap=True,\n",
       "            class_weight={0: 0.51891309427079879, 1: 13.718355305614455},\n",
       "            criterion='gini', max_depth=None, max_features='sqrt',\n",
       "            max_leaf_nodes=None, min_impurity_decrease=0.0,\n",
       "            min_impurity_split=None, min_samples_leaf=100,\n",
       "            min_samples_split=2, min_weight_fraction_leaf=0.0,\n",
       "            n_estimators=300, n_jobs=-1, oob_score=True, random_state=39,\n",
       "            verbose=1, warm_start=False)"
      ]
     },
     "execution_count": 62,
     "metadata": {},
     "output_type": "execute_result"
    }
   ],
   "source": [
    "rfc = RandomForestClassifier(n_estimators=300, \n",
    "                             max_features='sqrt',\n",
    "                             min_samples_leaf=60,\n",
    "                             max_depth=None,\n",
    "                             min_samples_split=2,\n",
    "                             class_weight=class_weight,\n",
    "                             n_jobs=-1,\n",
    "                             oob_score=True,\n",
    "                             verbose=1,\n",
    "                             random_state=39)\n",
    "\n",
    "rfc.fit(b, data.target)"
   ]
  },
  {
   "cell_type": "markdown",
   "metadata": {},
   "source": [
    "### XGBoost"
   ]
  },
  {
   "cell_type": "code",
   "execution_count": 110,
   "metadata": {},
   "outputs": [],
   "source": [
    "from sklearn.model_selection import train_test_split\n",
    "X_train, X_val, y_train, y_val = train_test_split(train_norm, \n",
    "                                                  data.target, \n",
    "                                                  test_size=0.1,\n",
    "                                                  random_state=39)"
   ]
  },
  {
   "cell_type": "code",
   "execution_count": 172,
   "metadata": {},
   "outputs": [],
   "source": [
    "from xgboost import XGBClassifier\n",
    "xgb=XGBClassifier(n_estimators=370,\n",
    "                  max_depth=4,\n",
    "                  objective=\"binary:logistic\",      \n",
    "                  learning_rate=0.05, \n",
    "                  subsample=0.8,\n",
    "                  min_child_weight=0.77,\n",
    "                  #max_delta_step=5,\n",
    "                  colsample_bytree=0.8,\n",
    "                  scale_pos_weight=1.6,\n",
    "                  gamma=10,\n",
    "                  reg_alpha=8,\n",
    "                  reg_lambda=1.3,\n",
    "                  seed=39,\n",
    "                  n_jobs=-1)"
   ]
  },
  {
   "cell_type": "code",
   "execution_count": 173,
   "metadata": {},
   "outputs": [
    {
     "name": "stdout",
     "output_type": "stream",
     "text": [
      "[CV]  ................................................................\n",
      "[CV] ................................................. , total= 7.3min\n",
      "[CV]  ................................................................\n"
     ]
    },
    {
     "name": "stderr",
     "output_type": "stream",
     "text": [
      "[Parallel(n_jobs=1)]: Done   1 out of   1 | elapsed:  7.3min remaining:    0.0s\n"
     ]
    },
    {
     "name": "stdout",
     "output_type": "stream",
     "text": [
      "[CV] ................................................. , total= 6.4min\n",
      "[CV]  ................................................................\n",
      "[CV] ................................................. , total= 5.9min\n",
      "[CV]  ................................................................\n",
      "[CV] ................................................. , total= 6.8min\n",
      "[CV]  ................................................................\n",
      "[CV] ................................................. , total= 6.8min\n"
     ]
    },
    {
     "name": "stderr",
     "output_type": "stream",
     "text": [
      "[Parallel(n_jobs=1)]: Done   5 out of   5 | elapsed: 33.2min finished\n"
     ]
    },
    {
     "data": {
      "text/plain": [
       "array([ 0.280531  ,  0.28079828,  0.28125306,  0.28768744,  0.27125685])"
      ]
     },
     "execution_count": 173,
     "metadata": {},
     "output_type": "execute_result"
    }
   ],
   "source": [
    "from sklearn.model_selection import cross_val_score\n",
    "from sklearn.model_selection import StratifiedKFold\n",
    "\n",
    "cv_2 = StratifiedKFold(n_splits=5, random_state=39).split(cla_data,data.target)\n",
    "\n",
    "#Check cross validation scores\n",
    "cross_val_score(xgb, \n",
    "                cla_data,\n",
    "                data.target, \n",
    "                cv=cv_2, \n",
    "                scoring=gini_sklearn, \n",
    "                verbose=2)"
   ]
  },
  {
   "cell_type": "code",
   "execution_count": 167,
   "metadata": {},
   "outputs": [
    {
     "data": {
      "text/plain": [
       "XGBClassifier(base_score=0.5, booster='gbtree', colsample_bylevel=1,\n",
       "       colsample_bytree=0.8, gamma=10, learning_rate=0.07,\n",
       "       max_delta_step=0, max_depth=5, min_child_weight=0.77, missing=None,\n",
       "       n_estimators=370, n_jobs=-1, nthread=None,\n",
       "       objective='binary:logistic', random_state=0, reg_alpha=8,\n",
       "       reg_lambda=1.3, scale_pos_weight=1.6, seed=39, silent=True,\n",
       "       subsample=0.8)"
      ]
     },
     "execution_count": 167,
     "metadata": {},
     "output_type": "execute_result"
    }
   ],
   "source": [
    "xgb.fit(cla_data,data.target,eval_metric=gini_sklearn,verbose=2)"
   ]
  },
  {
   "cell_type": "markdown",
   "metadata": {},
   "source": [
    "### Test Part"
   ]
  },
  {
   "cell_type": "code",
   "execution_count": 30,
   "metadata": {
    "collapsed": true
   },
   "outputs": [],
   "source": [
    "test_data = pd.read_csv('test.csv')"
   ]
  },
  {
   "cell_type": "code",
   "execution_count": 31,
   "metadata": {
    "collapsed": true
   },
   "outputs": [],
   "source": [
    "test_data = test_data.replace(-1, np.nan)"
   ]
  },
  {
   "cell_type": "code",
   "execution_count": 32,
   "metadata": {
    "collapsed": true
   },
   "outputs": [],
   "source": [
    "test_final = (test_data.drop(['ps_car_10_cat', 'ps_car_03_cat','ps_car_05_cat','ps_ind_10_bin',\n",
    "                      'ps_ind_11_bin', 'ps_ind_12_bin','ps_ind_13_bin','ps_ind_14','id'], axis=1))"
   ]
  },
  {
   "cell_type": "code",
   "execution_count": 33,
   "metadata": {
    "collapsed": true
   },
   "outputs": [],
   "source": [
    "test_final['ps_calc_06_sqr'] = test_final.ps_calc_06**2\n",
    "test_final['ps_calc_02_sqr'] = test_final.ps_calc_02**2\n",
    "test_final['ps_calc_03_sqr'] = test_final.ps_calc_03**2\n",
    "\n",
    "cats_test = pd.DataFrame(imp_cat.transform(test_final.loc[:, col_cat]))\n",
    "cons_test = pd.DataFrame(imp_con.transform(test_final.loc[:, col_con]))\n",
    "cats_test.columns = col_cat\n",
    "cons_test.columns = col_con\n",
    "test_filled = pd.merge(cats_test, cons_test, left_index=True, right_index=True)\n",
    "\n",
    "dfs = []\n",
    "drop_cols = []\n",
    "for col in cats_test.columns:\n",
    "    if test_filled[col].nunique() >= 3:\n",
    "        #print(selected_train[col].nunique())\n",
    "        drop_cols.append(col)\n",
    "        col_df = pd.get_dummies(test_filled[col])\n",
    "        col_df = col_df.add_prefix(col)\n",
    "        dfs.append(col_df)\n",
    "        \n",
    "test_dummies = pd.DataFrame(np.ones(len(test_filled)))\n",
    "for df in dfs:\n",
    "    test_dummies = pd.merge(test_dummies, df, left_index=True, right_index=True)\n",
    "    \n",
    "new_test = test_filled.drop(drop_cols, axis=1)\n",
    "new_test = pd.merge(test_dummies, new_test, left_index=True, right_index=True)\n",
    "new_test = new_test.drop(0, axis=1)\n",
    "\n",
    "emp_test = np.array(np.zeros([new_test.shape[0],3]))\n",
    "empties_test = pd.DataFrame(data=emp_test,\n",
    "                       columns=['ps_calc_060.0','ps_calc_1210.0',\n",
    "                                'ps_calc_06_sqr0.0'])\n",
    "new_test = pd.merge(new_test, empties_test, left_index=True, right_index=True)\n",
    "new_test = new_test.sort_index(axis=1)\n",
    "test_norm = norm.transform(new_test)"
   ]
  },
  {
   "cell_type": "code",
   "execution_count": 168,
   "metadata": {},
   "outputs": [],
   "source": [
    "proba = xgb.predict_proba(test_final)[:,1]"
   ]
  },
  {
   "cell_type": "code",
   "execution_count": 169,
   "metadata": {},
   "outputs": [
    {
     "data": {
      "text/plain": [
       "array([ 0.04164963,  0.04175508,  0.04047527, ...,  0.06109792,\n",
       "        0.03720558,  0.05887993], dtype=float32)"
      ]
     },
     "execution_count": 169,
     "metadata": {},
     "output_type": "execute_result"
    }
   ],
   "source": [
    "proba"
   ]
  },
  {
   "cell_type": "code",
   "execution_count": 170,
   "metadata": {
    "collapsed": true
   },
   "outputs": [],
   "source": [
    "pro_df = pd.DataFrame(proba)\n",
    "submit = pd.merge(test_data[['id']], pro_df, left_index=True, right_index=True)"
   ]
  },
  {
   "cell_type": "code",
   "execution_count": 171,
   "metadata": {
    "collapsed": true
   },
   "outputs": [],
   "source": [
    "submit.rename(columns={0:'target'}, inplace=True)\n",
    "submit.to_csv('submit.csv', index=False)"
   ]
  },
  {
   "cell_type": "code",
   "execution_count": null,
   "metadata": {
    "collapsed": true
   },
   "outputs": [],
   "source": []
  }
 ],
 "metadata": {
  "kernelspec": {
   "display_name": "Python 3",
   "language": "python",
   "name": "python3"
  },
  "language_info": {
   "codemirror_mode": {
    "name": "ipython",
    "version": 3
   },
   "file_extension": ".py",
   "mimetype": "text/x-python",
   "name": "python",
   "nbconvert_exporter": "python",
   "pygments_lexer": "ipython3",
   "version": "3.5.4"
  }
 },
 "nbformat": 4,
 "nbformat_minor": 2
}
